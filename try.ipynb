{
 "cells": [
  {
   "cell_type": "code",
   "execution_count": 1,
   "metadata": {},
   "outputs": [],
   "source": [
    "import os\n",
    "import pickle"
   ]
  },
  {
   "cell_type": "code",
   "execution_count": 2,
   "metadata": {},
   "outputs": [
    {
     "name": "stdout",
     "output_type": "stream",
     "text": [
      "c:\\Users\\pierp\\OneDrive\\Desktop\\Optimization Models\\Python exercises\\DSSC_MO\\backup\\scalability.pkl\n"
     ]
    }
   ],
   "source": [
    "backup = os.getcwd() + '\\\\backup\\\\scalability.pkl'\n",
    "print(backup)"
   ]
  },
  {
   "cell_type": "code",
   "execution_count": 3,
   "metadata": {},
   "outputs": [
    {
     "data": {
      "text/plain": [
       "[[100, 10, 3, 0, 31.35491770000226, 0.1],\n",
       " [100, 10, 3, 1, 34.46138219999921, 0.1],\n",
       " [100, 10, 3, 2, 31.391996199999994, 0.1],\n",
       " [100, 10, 3, 3, 30.62632189999931, 0.1],\n",
       " [100, 10, 3, 4, 28.71415689999776, 0.14],\n",
       " [100, 10, 3, 5, 30.069196200001898, 0.1],\n",
       " [100, 10, 3, 6, 29.46209700000327, 0.11],\n",
       " [100, 10, 3, 7, 29.228656299997965, 0.11],\n",
       " [100, 10, 3, 8, 30.55898370000068, 0.1],\n",
       " [100, 10, 3, 9, 30.629643399999622, 0.14],\n",
       " [100, 20, 6, 0, 97.50710619999882, 0.62],\n",
       " [100, 20, 6, 1, 98.00547690000167, 1.3],\n",
       " [100, 20, 6, 2, 99.08387130000119, 1.0],\n",
       " [100, 20, 6, 3, 98.63293780000095, 0.71],\n",
       " [100, 20, 6, 4, 103.03771659999984, 1.36],\n",
       " [100, 20, 6, 5, 98.54971789999763, 1.06],\n",
       " [100, 20, 6, 6, 96.90654129999893, 0.89],\n",
       " [100, 20, 6, 7, 97.60291769999822, 0.54],\n",
       " [100, 20, 6, 8, 97.61120279999886, 0.69],\n",
       " [100, 20, 6, 9, 96.65466979999837, 0.85],\n",
       " [100, 30, 9, 0, 209.82649669999955, 2.36],\n",
       " [100, 30, 9, 1, 220.89734690000114, 2.28],\n",
       " [100, 30, 9, 2, 208.15367289999995, 3.26],\n",
       " [100, 30, 9, 3, 203.7901008000008, 3.06],\n",
       " [100, 30, 9, 4, 210.18905660000019, 2.29],\n",
       " [100, 30, 9, 5, 240.21094959999755, 3.13],\n",
       " [100, 30, 9, 6, 196.90547779999906, 2.21],\n",
       " [100, 30, 9, 7, 220.64938229999825, 2.44],\n",
       " [100, 30, 9, 8, 217.89608740000403, 4.7],\n",
       " [100, 30, 9, 9, 195.71247900000162, 5.94],\n",
       " [100, 50, 15, 0, 522.3774658999973, 2812.42],\n",
       " [100, 50, 15, 1, 643.4154052000013, 39009.96],\n",
       " [100, 50, 15, 2, 617.5089477000001, 7436.68],\n",
       " [100, 50, 15, 3, 716.2703261000001, 17568.51],\n",
       " [100, 40, 12, 0, 416.88285259999975, 2856.0]]"
      ]
     },
     "execution_count": 3,
     "metadata": {},
     "output_type": "execute_result"
    }
   ],
   "source": [
    "with open(backup, 'rb') as file:\n",
    "    scalability = pickle.load(file)\n",
    "scalability"
   ]
  },
  {
   "cell_type": "code",
   "execution_count": 5,
   "metadata": {},
   "outputs": [],
   "source": [
    "scalability = scalability[:-1]"
   ]
  },
  {
   "cell_type": "code",
   "execution_count": 7,
   "metadata": {},
   "outputs": [],
   "source": [
    "with open(backup, 'wb') as file:\n",
    "    pickle.dump(scalability, file)"
   ]
  },
  {
   "cell_type": "code",
   "execution_count": null,
   "metadata": {},
   "outputs": [],
   "source": []
  }
 ],
 "metadata": {
  "kernelspec": {
   "display_name": "Python 3",
   "language": "python",
   "name": "python3"
  },
  "language_info": {
   "codemirror_mode": {
    "name": "ipython",
    "version": 3
   },
   "file_extension": ".py",
   "mimetype": "text/x-python",
   "name": "python",
   "nbconvert_exporter": "python",
   "pygments_lexer": "ipython3",
   "version": "3.10.13"
  }
 },
 "nbformat": 4,
 "nbformat_minor": 2
}

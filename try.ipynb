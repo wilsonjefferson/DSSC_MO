{
 "cells": [
  {
   "cell_type": "code",
   "execution_count": 1,
   "metadata": {},
   "outputs": [],
   "source": [
    "import numpy as np\n",
    "import os\n",
    "\n",
    "from src.larp import LARP\n",
    "from src.get_data import random_data\n",
    "from src.dows_generator import dows_generator"
   ]
  },
  {
   "cell_type": "code",
   "execution_count": 2,
   "metadata": {},
   "outputs": [],
   "source": [
    "k_vehicles = 2\n",
    "Q_vehicle_capacity = 100\n",
    "facility = 'F'\n",
    "\n",
    "m_storages = 4\n",
    "n_fields = 10\n",
    "\n",
    "use = (n_fields, m_storages)\n",
    "fields, storages, households, f, q, fs_dist, cs_dist, d = random_data(*use)"
   ]
  },
  {
   "cell_type": "code",
   "execution_count": 3,
   "metadata": {},
   "outputs": [
    {
     "name": "stdout",
     "output_type": "stream",
     "text": [
      "Set parameter Username\n",
      "Academic license - for non-commercial use only - expires 2025-01-12\n",
      "-- LARP model build COMPLETED --\n"
     ]
    }
   ],
   "source": [
    "larp_model = LARP(facility, \n",
    "                k_vehicles, \n",
    "                Q_vehicle_capacity, \n",
    "                fields, \n",
    "                storages, \n",
    "                households, \n",
    "                f, \n",
    "                q, \n",
    "                fs_dist, \n",
    "                cs_dist, \n",
    "                d)\n",
    "\n",
    "# NOTE: Since it is difficult to find an optimal solution \n",
    "# trying with random X, Y and Z (decision variables)\n",
    "# we fix a random X and set guroby to find and stop the very first feasible solution\n",
    "larp_model.model.setParam('SolutionLimit', 1)\n",
    "larp_model.build()"
   ]
  },
  {
   "cell_type": "code",
   "execution_count": 4,
   "metadata": {},
   "outputs": [
    {
     "name": "stdout",
     "output_type": "stream",
     "text": [
      "generator loop: 0\n",
      "dow created\n",
      "LARP model optimized\n",
      "LARP status : 10\n",
      "iter: 0  --> DOW FEASIBLE\n",
      "i: 0 objvalue: 1.0066711868934668e+18\n"
     ]
    }
   ],
   "source": [
    "n_dows = 1\n",
    "generator = dows_generator(larp_model, n_dows, m_storages, n_fields, k_vehicles)\n",
    "rainfall = list()\n",
    "for i, dow in enumerate(generator):\n",
    "    print('i:', i, 'objvalue:', dow.obj_value, sep=' ')\n",
    "    rainfall.append(dow)"
   ]
  },
  {
   "cell_type": "code",
   "execution_count": 5,
   "metadata": {},
   "outputs": [],
   "source": [
    "larp_model.model.resetParams()"
   ]
  },
  {
   "cell_type": "code",
   "execution_count": 6,
   "metadata": {},
   "outputs": [],
   "source": [
    "dow = rainfall[0]"
   ]
  },
  {
   "cell_type": "code",
   "execution_count": 7,
   "metadata": {},
   "outputs": [
    {
     "name": "stdout",
     "output_type": "stream",
     "text": [
      "[1 0 1 0]\n"
     ]
    }
   ],
   "source": [
    "print(dow.X)"
   ]
  },
  {
   "cell_type": "code",
   "execution_count": 8,
   "metadata": {},
   "outputs": [
    {
     "name": "stdout",
     "output_type": "stream",
     "text": [
      "[[0. 0. 1. 0.]\n",
      " [1. 0. 0. 0.]\n",
      " [1. 0. 0. 0.]\n",
      " [1. 0. 0. 0.]\n",
      " [1. 0. 0. 0.]\n",
      " [0. 0. 1. 0.]\n",
      " [1. 0. 0. 0.]\n",
      " [1. 0. 0. 0.]\n",
      " [1. 0. 0. 0.]\n",
      " [1. 0. 0. 0.]]\n"
     ]
    }
   ],
   "source": [
    "print(dow.Y)"
   ]
  },
  {
   "cell_type": "code",
   "execution_count": 9,
   "metadata": {},
   "outputs": [
    {
     "name": "stdout",
     "output_type": "stream",
     "text": [
      "[[0. 0. 0. 0. 1.]\n",
      " [0. 0. 0. 0. 0.]\n",
      " [0. 0. 0. 0. 1.]\n",
      " [0. 0. 0. 0. 0.]\n",
      " [1. 0. 1. 0. 0.]]\n"
     ]
    }
   ],
   "source": [
    "print(dow.Z)"
   ]
  },
  {
   "cell_type": "code",
   "execution_count": 10,
   "metadata": {},
   "outputs": [],
   "source": [
    "# from src.opt_1_neighbourhood import opt_1\n",
    "# local_optimum = opt_1(larp_model, dow)"
   ]
  },
  {
   "cell_type": "code",
   "execution_count": 11,
   "metadata": {},
   "outputs": [
    {
     "name": "stdout",
     "output_type": "stream",
     "text": [
      "zero_idx: 1 nonzero_idx: 0\n",
      "model optimization in-progress...\n",
      "Gurobi Optimizer version 11.0.0 build v11.0.0rc2 (win64 - Windows 10.0 (19045.2))\n",
      "\n",
      "CPU model: Intel(R) Core(TM) i5-5200U CPU @ 2.20GHz, instruction set [SSE2|AVX|AVX2]\n",
      "Thread count: 2 physical cores, 4 logical processors, using up to 4 threads\n",
      "\n",
      "Optimize a model with 272 rows, 109 columns and 724 nonzeros\n",
      "Model fingerprint: 0x93e0d20d\n",
      "Variable types: 0 continuous, 109 integer (105 binary)\n",
      "Coefficient statistics:\n",
      "  Matrix range     [1e+00, 1e+03]\n",
      "  Objective range  [2e+00, 2e+18]\n",
      "  Bounds range     [1e+00, 1e+00]\n",
      "  RHS range        [1e+00, 1e+02]\n",
      "Warning: Model contains large objective coefficients\n",
      "         Consider reformulating model or setting NumericFocus parameter\n",
      "         to avoid numerical issues.\n",
      "\n",
      "MIP start from previous solve did not produce a new incumbent solution\n",
      "MIP start from previous solve violates constraint X_Constr_WaterFlow[0] by 1.000000000\n",
      "\n",
      "Found heuristic solution: objective 1.071111e+16\n",
      "Presolve removed 272 rows and 109 columns\n",
      "Presolve time: 0.00s\n",
      "Presolve: All rows and columns removed\n",
      "\n",
      "Explored 0 nodes (0 simplex iterations) in 0.05 seconds (0.00 work units)\n",
      "Thread count was 1 (of 4 available processors)\n",
      "\n",
      "Solution count 1: 1.07111e+16 \n",
      "\n",
      "Optimal solution found (tolerance 1.00e-04)\n",
      "Best objective 1.071111466743e+16, best bound 1.071111466743e+16, gap 0.0000%\n",
      "model optimization COMPLETED\n",
      "neighbour dow is FEASIBLE\n",
      "objValue: 1.0711114667433826e+16\n",
      "X: [0 1 1 0]\n",
      "Y: [3 2 2 2 2 3 2 2 2 2]\n",
      "Z: [0 2 5 0 3 5]\n",
      "\n",
      "zero_idx: 1 nonzero_idx: 2\n",
      "model optimization in-progress...\n",
      "Gurobi Optimizer version 11.0.0 build v11.0.0rc2 (win64 - Windows 10.0 (19045.2))\n",
      "\n",
      "CPU model: Intel(R) Core(TM) i5-5200U CPU @ 2.20GHz, instruction set [SSE2|AVX|AVX2]\n",
      "Thread count: 2 physical cores, 4 logical processors, using up to 4 threads\n",
      "\n",
      "Optimize a model with 272 rows, 109 columns and 724 nonzeros\n",
      "Model fingerprint: 0xf47e54bc\n",
      "Variable types: 0 continuous, 109 integer (105 binary)\n",
      "Coefficient statistics:\n",
      "  Matrix range     [1e+00, 1e+03]\n",
      "  Objective range  [2e+00, 2e+18]\n",
      "  Bounds range     [1e+00, 1e+00]\n",
      "  RHS range        [1e+00, 1e+02]\n",
      "Warning: Model contains large objective coefficients\n",
      "         Consider reformulating model or setting NumericFocus parameter\n",
      "         to avoid numerical issues.\n",
      "\n",
      "MIP start from previous solve did not produce a new incumbent solution\n",
      "MIP start from previous solve violates constraint X_Constr_WaterFlow[0] by 1.000000000\n",
      "\n",
      "Found heuristic solution: objective 3.228893e+18\n",
      "Presolve removed 272 rows and 109 columns\n",
      "Presolve time: 0.00s\n",
      "Presolve: All rows and columns removed\n",
      "\n",
      "Explored 0 nodes (0 simplex iterations) in 0.06 seconds (0.00 work units)\n",
      "Thread count was 1 (of 4 available processors)\n",
      "\n",
      "Solution count 1: 3.22889e+18 \n",
      "\n",
      "Optimal solution found (tolerance 1.00e-04)\n",
      "Best objective 3.228893408893e+18, best bound 3.228893408893e+18, gap 0.0000%\n",
      "model optimization COMPLETED\n",
      "neighbour dow is FEASIBLE\n",
      "objValue: 3.2288934088933673e+18\n",
      "X: [1 1 0 0]\n",
      "Y: [2 1 1 1 1 2 1 1 1 1]\n",
      "Z: [0 1 5 0 2 5]\n",
      "\n",
      "zero_idx: 3 nonzero_idx: 0\n",
      "model optimization in-progress...\n",
      "Gurobi Optimizer version 11.0.0 build v11.0.0rc2 (win64 - Windows 10.0 (19045.2))\n",
      "\n",
      "CPU model: Intel(R) Core(TM) i5-5200U CPU @ 2.20GHz, instruction set [SSE2|AVX|AVX2]\n",
      "Thread count: 2 physical cores, 4 logical processors, using up to 4 threads\n",
      "\n",
      "Optimize a model with 272 rows, 109 columns and 724 nonzeros\n",
      "Model fingerprint: 0x29ec6691\n",
      "Variable types: 0 continuous, 109 integer (105 binary)\n",
      "Coefficient statistics:\n",
      "  Matrix range     [1e+00, 1e+03]\n",
      "  Objective range  [2e+00, 2e+18]\n",
      "  Bounds range     [1e+00, 1e+00]\n",
      "  RHS range        [1e+00, 1e+02]\n",
      "Warning: Model contains large objective coefficients\n",
      "         Consider reformulating model or setting NumericFocus parameter\n",
      "         to avoid numerical issues.\n",
      "\n",
      "MIP start from previous solve did not produce a new incumbent solution\n",
      "MIP start from previous solve violates constraint X_Constr_WaterFlow[0] by 1.000000000\n",
      "\n",
      "Found heuristic solution: objective 6.674382e+17\n",
      "Presolve removed 272 rows and 109 columns\n",
      "Presolve time: 0.00s\n",
      "Presolve: All rows and columns removed\n",
      "\n",
      "Explored 0 nodes (0 simplex iterations) in 0.05 seconds (0.00 work units)\n",
      "Thread count was 1 (of 4 available processors)\n",
      "\n",
      "Solution count 1: 6.67438e+17 \n",
      "\n",
      "Optimal solution found (tolerance 1.00e-04)\n",
      "Best objective 6.674382227780e+17, best bound 6.674382227780e+17, gap 0.0000%\n",
      "model optimization COMPLETED\n",
      "neighbour dow is FEASIBLE\n",
      "objValue: 6.674382227779668e+17\n",
      "X: [0 0 1 1]\n",
      "Y: [3 4 4 4 4 3 4 4 4 4]\n",
      "Z: [0 3 5 0 4 5]\n",
      "\n",
      "zero_idx: 3 nonzero_idx: 2\n",
      "model optimization in-progress...\n",
      "Gurobi Optimizer version 11.0.0 build v11.0.0rc2 (win64 - Windows 10.0 (19045.2))\n",
      "\n",
      "CPU model: Intel(R) Core(TM) i5-5200U CPU @ 2.20GHz, instruction set [SSE2|AVX|AVX2]\n",
      "Thread count: 2 physical cores, 4 logical processors, using up to 4 threads\n",
      "\n",
      "Optimize a model with 272 rows, 109 columns and 724 nonzeros\n",
      "Model fingerprint: 0xb019a525\n",
      "Variable types: 0 continuous, 109 integer (105 binary)\n",
      "Coefficient statistics:\n",
      "  Matrix range     [1e+00, 1e+03]\n",
      "  Objective range  [2e+00, 2e+18]\n",
      "  Bounds range     [1e+00, 1e+00]\n",
      "  RHS range        [1e+00, 1e+02]\n",
      "Warning: Model contains large objective coefficients\n",
      "         Consider reformulating model or setting NumericFocus parameter\n",
      "         to avoid numerical issues.\n",
      "\n",
      "MIP start from previous solve did not produce a new incumbent solution\n",
      "MIP start from previous solve violates constraint X_Constr_WaterFlow[0] by 1.000000000\n",
      "\n",
      "Found heuristic solution: objective 1.007671e+18\n",
      "Presolve removed 272 rows and 109 columns\n",
      "Presolve time: 0.00s\n",
      "Presolve: All rows and columns removed\n",
      "\n",
      "Explored 0 nodes (0 simplex iterations) in 0.05 seconds (0.00 work units)\n",
      "Thread count was 1 (of 4 available processors)\n",
      "\n",
      "Solution count 1: 1.00767e+18 \n",
      "\n",
      "Optimal solution found (tolerance 1.00e-04)\n",
      "Best objective 1.007671186671e+18, best bound 1.007671186671e+18, gap 0.0000%\n",
      "model optimization COMPLETED\n",
      "neighbour dow is FEASIBLE\n",
      "objValue: 1.0076711866713668e+18\n",
      "X: [1 0 0 1]\n",
      "Y: [4 1 1 1 1 4 1 1 1 1]\n",
      "Z: [0 1 5 0 4 5]\n",
      "\n",
      "neighbours: [[DOW(), 1.0711114667433826e+16], [DOW(), 3.2288934088933673e+18], [DOW(), 6.674382227779668e+17], [DOW(), 1.0076711866713668e+18]]\n",
      "{(0, 0): <gurobi.Constr Y_Constr_WaterFlow[0,0]>, (0, 1): <gurobi.Constr Y_Constr_WaterFlow[0,1]>, (0, 2): <gurobi.Constr Y_Constr_WaterFlow[0,2]>, (0, 3): <gurobi.Constr Y_Constr_WaterFlow[0,3]>, (1, 0): <gurobi.Constr Y_Constr_WaterFlow[1,0]>, (1, 1): <gurobi.Constr Y_Constr_WaterFlow[1,1]>, (1, 2): <gurobi.Constr Y_Constr_WaterFlow[1,2]>, (1, 3): <gurobi.Constr Y_Constr_WaterFlow[1,3]>, (2, 0): <gurobi.Constr Y_Constr_WaterFlow[2,0]>, (2, 1): <gurobi.Constr Y_Constr_WaterFlow[2,1]>, (2, 2): <gurobi.Constr Y_Constr_WaterFlow[2,2]>, (2, 3): <gurobi.Constr Y_Constr_WaterFlow[2,3]>, (3, 0): <gurobi.Constr Y_Constr_WaterFlow[3,0]>, (3, 1): <gurobi.Constr Y_Constr_WaterFlow[3,1]>, (3, 2): <gurobi.Constr Y_Constr_WaterFlow[3,2]>, (3, 3): <gurobi.Constr Y_Constr_WaterFlow[3,3]>, (4, 0): <gurobi.Constr Y_Constr_WaterFlow[4,0]>, (4, 1): <gurobi.Constr Y_Constr_WaterFlow[4,1]>, (4, 2): <gurobi.Constr Y_Constr_WaterFlow[4,2]>, (4, 3): <gurobi.Constr Y_Constr_WaterFlow[4,3]>, (5, 0): <gurobi.Constr Y_Constr_WaterFlow[5,0]>, (5, 1): <gurobi.Constr Y_Constr_WaterFlow[5,1]>, (5, 2): <gurobi.Constr Y_Constr_WaterFlow[5,2]>, (5, 3): <gurobi.Constr Y_Constr_WaterFlow[5,3]>, (6, 0): <gurobi.Constr Y_Constr_WaterFlow[6,0]>, (6, 1): <gurobi.Constr Y_Constr_WaterFlow[6,1]>, (6, 2): <gurobi.Constr Y_Constr_WaterFlow[6,2]>, (6, 3): <gurobi.Constr Y_Constr_WaterFlow[6,3]>, (7, 0): <gurobi.Constr Y_Constr_WaterFlow[7,0]>, (7, 1): <gurobi.Constr Y_Constr_WaterFlow[7,1]>, (7, 2): <gurobi.Constr Y_Constr_WaterFlow[7,2]>, (7, 3): <gurobi.Constr Y_Constr_WaterFlow[7,3]>, (8, 0): <gurobi.Constr Y_Constr_WaterFlow[8,0]>, (8, 1): <gurobi.Constr Y_Constr_WaterFlow[8,1]>, (8, 2): <gurobi.Constr Y_Constr_WaterFlow[8,2]>, (8, 3): <gurobi.Constr Y_Constr_WaterFlow[8,3]>, (9, 0): <gurobi.Constr Y_Constr_WaterFlow[9,0]>, (9, 1): <gurobi.Constr Y_Constr_WaterFlow[9,1]>, (9, 2): <gurobi.Constr Y_Constr_WaterFlow[9,2]>, (9, 3): <gurobi.Constr Y_Constr_WaterFlow[9,3]>}\n"
     ]
    }
   ],
   "source": [
    "from src.swap_neighbourhood import swap\n",
    "local_optimum = swap(larp_model, dow)"
   ]
  },
  {
   "cell_type": "code",
   "execution_count": 12,
   "metadata": {},
   "outputs": [
    {
     "name": "stdout",
     "output_type": "stream",
     "text": [
      "objValue: 1.0066711868934668e+18\n",
      "X: [1 0 1 0]\n",
      "Y: [3 1 1 1 1 3 1 1 1 1]\n",
      "Z: [0 1 5 0 3 5]\n",
      "\n"
     ]
    }
   ],
   "source": [
    "dow.to_vector()\n",
    "print(dow)"
   ]
  },
  {
   "cell_type": "code",
   "execution_count": 13,
   "metadata": {},
   "outputs": [
    {
     "name": "stdout",
     "output_type": "stream",
     "text": [
      "objValue: 1.0711114667433826e+16\n",
      "X: [0 1 1 0]\n",
      "Y: [3 2 2 2 2 3 2 2 2 2]\n",
      "Z: [0 2 5 0 3 5]\n",
      "\n"
     ]
    }
   ],
   "source": [
    "print(local_optimum)"
   ]
  },
  {
   "cell_type": "code",
   "execution_count": 14,
   "metadata": {},
   "outputs": [
    {
     "data": {
      "text/plain": [
       "False"
      ]
     },
     "execution_count": 14,
     "metadata": {},
     "output_type": "execute_result"
    }
   ],
   "source": [
    "dow == local_optimum"
   ]
  },
  {
   "cell_type": "code",
   "execution_count": null,
   "metadata": {},
   "outputs": [],
   "source": []
  }
 ],
 "metadata": {
  "kernelspec": {
   "display_name": "Python 3",
   "language": "python",
   "name": "python3"
  },
  "language_info": {
   "codemirror_mode": {
    "name": "ipython",
    "version": 3
   },
   "file_extension": ".py",
   "mimetype": "text/x-python",
   "name": "python",
   "nbconvert_exporter": "python",
   "pygments_lexer": "ipython3",
   "version": "3.10.13"
  }
 },
 "nbformat": 4,
 "nbformat_minor": 2
}

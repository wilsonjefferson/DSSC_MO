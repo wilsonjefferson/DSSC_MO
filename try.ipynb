{
 "cells": [
  {
   "cell_type": "code",
   "execution_count": 1,
   "metadata": {},
   "outputs": [],
   "source": [
    "from src.larp import LARP\n",
    "from src.local_search import local_search\n",
    "\n",
    "from src.utils.clouds_generator import clouds_generator\n",
    "from src.utils.get_data import random_data"
   ]
  },
  {
   "cell_type": "code",
   "execution_count": 2,
   "metadata": {},
   "outputs": [],
   "source": [
    "k_vehicles = 2\n",
    "Q_vehicle_capacity = 100\n",
    "facility = 'F'\n",
    "\n",
    "m_storages = 4\n",
    "n_fields = 10\n",
    "\n",
    "fields, storages, households, f, q, fs_dist, cs_dist, d = random_data(n_fields, m_storages)"
   ]
  },
  {
   "cell_type": "code",
   "execution_count": 3,
   "metadata": {},
   "outputs": [
    {
     "name": "stdout",
     "output_type": "stream",
     "text": [
      "Set parameter Username\n",
      "Academic license - for non-commercial use only - expires 2025-01-12\n",
      "-- LARP model build COMPLETED --\n"
     ]
    }
   ],
   "source": [
    "larp = LARP(facility, \n",
    "            k_vehicles, \n",
    "            Q_vehicle_capacity, \n",
    "            fields, \n",
    "            storages, \n",
    "            households, \n",
    "            f, \n",
    "            q, \n",
    "            fs_dist, \n",
    "            cs_dist, \n",
    "            d)\n",
    "\n",
    "# NOTE: Since it is difficult to find an optimal solution \n",
    "# trying with random X, Y and Z (decision variables)\n",
    "# we fix a random X and set guroby to find and stop the very first feasible solution\n",
    "larp.model.setParam('OutputFlag', 0)\n",
    "larp.model.setParam('SolutionLimit', 1)\n",
    "larp.build()"
   ]
  },
  {
   "cell_type": "code",
   "execution_count": 4,
   "metadata": {},
   "outputs": [],
   "source": [
    "dows = dict()\n",
    "P0_list = list()\n",
    "UE_list = list()\n",
    "E_list = list()\n",
    "\n",
    "excluded_list = list()\n",
    "discarded_list = list()\n",
    "\n",
    "max_cloud = 1\n",
    "max_pop = 5"
   ]
  },
  {
   "cell_type": "code",
   "execution_count": 5,
   "metadata": {},
   "outputs": [],
   "source": [
    "clouds = clouds_generator(max_cloud, larp, max_pop)\n",
    "\n",
    "for cloud in clouds:\n",
    "    rainfall, discarded_dows = cloud.make_rain(E_list, discarded_list)\n",
    "    discarded_list.extend(discarded_dows)\n",
    "\n",
    "    for dow in rainfall:\n",
    "        local_optimum, neighbours, excluded_dows, discarded_dows = local_search(larp, dow)\n",
    "        excluded_list.extend(excluded_dows)\n",
    "        discarded_list.extend(discarded_dows)\n",
    "        dows[local_optimum] = neighbours"
   ]
  },
  {
   "cell_type": "code",
   "execution_count": 6,
   "metadata": {},
   "outputs": [
    {
     "name": "stdout",
     "output_type": "stream",
     "text": [
      "objValue: 763111111162726.0\n",
      "X: [0 1 0 1]\n",
      "Y: [2 2 4 4 4 4 4 4 2 4]\n",
      "Z: [0 2 0 4]\n",
      "\n",
      "\n",
      "objValue: 6.667423155555564e+18\n",
      "X: [1 0 0 1]\n",
      "Y: [1 4 4 4 4 4 4 4 4 4]\n",
      "Z: [0 1 0 4]\n",
      "\n",
      "\n",
      "objValue: 1.222355555589224e+18\n",
      "X: [0 0 1 1]\n",
      "Y: [3 3 3 3 4 3 4 4 3 4]\n",
      "Z: [0 3 0 4]\n",
      "\n",
      "\n",
      "objValue: 1.311112044478165e+18\n",
      "X: [0 1 1 0]\n",
      "Y: [3 3 3 3 3 3 2 3 2 2]\n",
      "Z: [0 2 0 3]\n",
      "\n",
      "\n",
      "objValue: 6.225564444444549e+17\n",
      "X: [1 0 1 1]\n",
      "Y: [4 1 4 3 3 4 1 4 1 1]\n",
      "Z: [0 1 0 3 4]\n",
      "\n",
      "\n"
     ]
    }
   ],
   "source": [
    "for dow in rainfall:\n",
    "    print(dow)\n",
    "    print()"
   ]
  },
  {
   "cell_type": "code",
   "execution_count": 7,
   "metadata": {},
   "outputs": [
    {
     "name": "stdout",
     "output_type": "stream",
     "text": [
      "objValue: 763111111162726.0\n",
      "X: [0 1 0 1]\n",
      "Y: [2 2 4 4 4 4 4 4 2 4]\n",
      "Z: [0 2 0 4]\n",
      "\n",
      "(DOW(), DOW(), DOW(), DOW())\n",
      "\n",
      "objValue: 763155555562726.0\n",
      "X: [0 1 0 1]\n",
      "Y: [2 2 2 2 2 2 2 2 2 2]\n",
      "Z: [0 2 0 4]\n",
      "\n",
      "[]\n",
      "\n",
      "objValue: 1.222355555589224e+18\n",
      "X: [0 0 1 1]\n",
      "Y: [3 3 3 3 4 3 4 4 3 4]\n",
      "Z: [0 3 0 4]\n",
      "\n",
      "(DOW(), DOW(), DOW(), DOW())\n",
      "\n",
      "objValue: 6.225564444444549e+17\n",
      "X: [1 0 1 1]\n",
      "Y: [4 1 4 3 3 4 1 4 1 1]\n",
      "Z: [0 1 0 3 4]\n",
      "\n",
      "(DOW(), DOW(), DOW())\n",
      "\n"
     ]
    }
   ],
   "source": [
    "for dow, neighbours in dows.items():\n",
    "    print(dow)\n",
    "    print(neighbours)\n",
    "    print()"
   ]
  },
  {
   "cell_type": "code",
   "execution_count": 8,
   "metadata": {},
   "outputs": [
    {
     "name": "stdout",
     "output_type": "stream",
     "text": [
      "objValue: 6.667423155555564e+18\n",
      "X: [1 0 0 1]\n",
      "Y: [1 4 4 4 4 4 4 4 4 4]\n",
      "Z: [0 1 0 4]\n",
      "\n",
      "objValue: 1.3200337600088932e+19\n",
      "X: [1 1 0 0]\n",
      "Y: [1 2 2 2 2 2 2 2 2 2]\n",
      "Z: [0 1 0 2]\n",
      "\n",
      "objValue: 6.674231555555628e+17\n",
      "X: [0 0 1 1]\n",
      "Y: [3 4 4 4 4 4 4 4 4 4]\n",
      "Z: [0 3 0 4]\n",
      "\n",
      "objValue: 7.222267555594566e+18\n",
      "X: [1 0 1 0]\n",
      "Y: [1 3 3 3 3 3 3 3 3 3]\n",
      "Z: [0 1 0 3]\n",
      "\n",
      "objValue: 1.311112044478165e+18\n",
      "X: [0 1 1 0]\n",
      "Y: [3 3 3 3 3 3 2 3 2 2]\n",
      "Z: [0 2 0 3]\n",
      "\n",
      "objValue: 1.2222231111447872e+18\n",
      "X: [1 0 1 0]\n",
      "Y: [3 3 3 3 3 3 1 3 1 1]\n",
      "Z: [0 1 0 3]\n",
      "\n",
      "objValue: 7.400008933336711e+18\n",
      "X: [1 1 0 0]\n",
      "Y: [1 1 1 1 1 1 2 1 2 2]\n",
      "Z: [0 1 0 2]\n",
      "\n",
      "objValue: 1.2223120444781207e+18\n",
      "X: [0 0 1 1]\n",
      "Y: [3 3 3 3 3 3 4 3 4 4]\n",
      "Z: [0 3 0 4]\n",
      "\n"
     ]
    }
   ],
   "source": [
    "for dow in excluded_list:\n",
    "    print(dow)"
   ]
  },
  {
   "cell_type": "code",
   "execution_count": null,
   "metadata": {},
   "outputs": [],
   "source": []
  }
 ],
 "metadata": {
  "kernelspec": {
   "display_name": "Python 3",
   "language": "python",
   "name": "python3"
  },
  "language_info": {
   "codemirror_mode": {
    "name": "ipython",
    "version": 3
   },
   "file_extension": ".py",
   "mimetype": "text/x-python",
   "name": "python",
   "nbconvert_exporter": "python",
   "pygments_lexer": "ipython3",
   "version": "3.10.13"
  }
 },
 "nbformat": 4,
 "nbformat_minor": 2
}

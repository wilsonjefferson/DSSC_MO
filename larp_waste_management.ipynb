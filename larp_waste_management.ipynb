{
 "cells": [
  {
   "cell_type": "code",
   "execution_count": 1,
   "metadata": {},
   "outputs": [],
   "source": [
    "import pandas as pd\n",
    "import numpy as np\n",
    "import pickle\n",
    "import os"
   ]
  },
  {
   "cell_type": "markdown",
   "metadata": {},
   "source": [
    "##### Loading Data"
   ]
  },
  {
   "cell_type": "code",
   "execution_count": 2,
   "metadata": {},
   "outputs": [],
   "source": [
    "data_path = os.getcwd() + '\\\\data\\\\'"
   ]
  },
  {
   "cell_type": "code",
   "execution_count": 3,
   "metadata": {},
   "outputs": [
    {
     "data": {
      "text/html": [
       "<div>\n",
       "<style scoped>\n",
       "    .dataframe tbody tr th:only-of-type {\n",
       "        vertical-align: middle;\n",
       "    }\n",
       "\n",
       "    .dataframe tbody tr th {\n",
       "        vertical-align: top;\n",
       "    }\n",
       "\n",
       "    .dataframe thead th {\n",
       "        text-align: right;\n",
       "    }\n",
       "</style>\n",
       "<table border=\"1\" class=\"dataframe\">\n",
       "  <thead>\n",
       "    <tr style=\"text-align: right;\">\n",
       "      <th></th>\n",
       "      <th>cluster</th>\n",
       "      <th>household</th>\n",
       "      <th>demand</th>\n",
       "    </tr>\n",
       "  </thead>\n",
       "  <tbody>\n",
       "    <tr>\n",
       "      <th>0</th>\n",
       "      <td>C1</td>\n",
       "      <td>H1</td>\n",
       "      <td>0.16</td>\n",
       "    </tr>\n",
       "    <tr>\n",
       "      <th>1</th>\n",
       "      <td>C1</td>\n",
       "      <td>H2</td>\n",
       "      <td>0.37</td>\n",
       "    </tr>\n",
       "    <tr>\n",
       "      <th>2</th>\n",
       "      <td>C1</td>\n",
       "      <td>H3</td>\n",
       "      <td>0.27</td>\n",
       "    </tr>\n",
       "    <tr>\n",
       "      <th>3</th>\n",
       "      <td>C1</td>\n",
       "      <td>H4</td>\n",
       "      <td>0.21</td>\n",
       "    </tr>\n",
       "    <tr>\n",
       "      <th>4</th>\n",
       "      <td>C1</td>\n",
       "      <td>H5</td>\n",
       "      <td>0.16</td>\n",
       "    </tr>\n",
       "    <tr>\n",
       "      <th>...</th>\n",
       "      <td>...</td>\n",
       "      <td>...</td>\n",
       "      <td>...</td>\n",
       "    </tr>\n",
       "    <tr>\n",
       "      <th>105</th>\n",
       "      <td>C7</td>\n",
       "      <td>H106</td>\n",
       "      <td>0.38</td>\n",
       "    </tr>\n",
       "    <tr>\n",
       "      <th>106</th>\n",
       "      <td>C7</td>\n",
       "      <td>H107</td>\n",
       "      <td>0.56</td>\n",
       "    </tr>\n",
       "    <tr>\n",
       "      <th>107</th>\n",
       "      <td>C7</td>\n",
       "      <td>H108</td>\n",
       "      <td>0.66</td>\n",
       "    </tr>\n",
       "    <tr>\n",
       "      <th>108</th>\n",
       "      <td>C7</td>\n",
       "      <td>H109</td>\n",
       "      <td>0.84</td>\n",
       "    </tr>\n",
       "    <tr>\n",
       "      <th>109</th>\n",
       "      <td>C7</td>\n",
       "      <td>H110</td>\n",
       "      <td>0.56</td>\n",
       "    </tr>\n",
       "  </tbody>\n",
       "</table>\n",
       "<p>110 rows × 3 columns</p>\n",
       "</div>"
      ],
      "text/plain": [
       "    cluster household  demand\n",
       "0        C1        H1    0.16\n",
       "1        C1        H2    0.37\n",
       "2        C1        H3    0.27\n",
       "3        C1        H4    0.21\n",
       "4        C1        H5    0.16\n",
       "..      ...       ...     ...\n",
       "105      C7      H106    0.38\n",
       "106      C7      H107    0.56\n",
       "107      C7      H108    0.66\n",
       "108      C7      H109    0.84\n",
       "109      C7      H110    0.56\n",
       "\n",
       "[110 rows x 3 columns]"
      ]
     },
     "execution_count": 3,
     "metadata": {},
     "output_type": "execute_result"
    }
   ],
   "source": [
    "use_110 = True\n",
    "if use_110:\n",
    "    d = pd.read_csv(data_path+'location_and_demand_110.csv', usecols=['cluster', 'household', 'demand'])\n",
    "else:\n",
    "    d = pd.read_csv(data_path+'waste_cluster.csv')\n",
    "d"
   ]
  },
  {
   "cell_type": "code",
   "execution_count": 4,
   "metadata": {},
   "outputs": [
    {
     "data": {
      "text/html": [
       "<div>\n",
       "<style scoped>\n",
       "    .dataframe tbody tr th:only-of-type {\n",
       "        vertical-align: middle;\n",
       "    }\n",
       "\n",
       "    .dataframe tbody tr th {\n",
       "        vertical-align: top;\n",
       "    }\n",
       "\n",
       "    .dataframe thead th {\n",
       "        text-align: right;\n",
       "    }\n",
       "</style>\n",
       "<table border=\"1\" class=\"dataframe\">\n",
       "  <thead>\n",
       "    <tr style=\"text-align: right;\">\n",
       "      <th></th>\n",
       "      <th>S1</th>\n",
       "      <th>S2</th>\n",
       "      <th>S3</th>\n",
       "      <th>S4</th>\n",
       "      <th>S5</th>\n",
       "      <th>S6</th>\n",
       "    </tr>\n",
       "  </thead>\n",
       "  <tbody>\n",
       "    <tr>\n",
       "      <th>C1</th>\n",
       "      <td>3.8</td>\n",
       "      <td>5.7</td>\n",
       "      <td>16.8</td>\n",
       "      <td>1.5</td>\n",
       "      <td>5.7</td>\n",
       "      <td>13.0</td>\n",
       "    </tr>\n",
       "    <tr>\n",
       "      <th>C2</th>\n",
       "      <td>4.4</td>\n",
       "      <td>5.0</td>\n",
       "      <td>16.6</td>\n",
       "      <td>9.2</td>\n",
       "      <td>6.0</td>\n",
       "      <td>12.8</td>\n",
       "    </tr>\n",
       "    <tr>\n",
       "      <th>C3</th>\n",
       "      <td>6.2</td>\n",
       "      <td>6.9</td>\n",
       "      <td>19.5</td>\n",
       "      <td>2.5</td>\n",
       "      <td>3.4</td>\n",
       "      <td>10.3</td>\n",
       "    </tr>\n",
       "    <tr>\n",
       "      <th>C4</th>\n",
       "      <td>5.2</td>\n",
       "      <td>4.5</td>\n",
       "      <td>17.0</td>\n",
       "      <td>0.3</td>\n",
       "      <td>6.0</td>\n",
       "      <td>12.5</td>\n",
       "    </tr>\n",
       "    <tr>\n",
       "      <th>C5</th>\n",
       "      <td>2.6</td>\n",
       "      <td>7.0</td>\n",
       "      <td>17.0</td>\n",
       "      <td>3.0</td>\n",
       "      <td>5.7</td>\n",
       "      <td>13.9</td>\n",
       "    </tr>\n",
       "    <tr>\n",
       "      <th>C6</th>\n",
       "      <td>2.0</td>\n",
       "      <td>7.5</td>\n",
       "      <td>16.7</td>\n",
       "      <td>3.7</td>\n",
       "      <td>6.2</td>\n",
       "      <td>14.5</td>\n",
       "    </tr>\n",
       "    <tr>\n",
       "      <th>C7</th>\n",
       "      <td>3.5</td>\n",
       "      <td>6.2</td>\n",
       "      <td>17.0</td>\n",
       "      <td>7.0</td>\n",
       "      <td>5.4</td>\n",
       "      <td>13.2</td>\n",
       "    </tr>\n",
       "  </tbody>\n",
       "</table>\n",
       "</div>"
      ],
      "text/plain": [
       "     S1   S2    S3   S4   S5    S6\n",
       "C1  3.8  5.7  16.8  1.5  5.7  13.0\n",
       "C2  4.4  5.0  16.6  9.2  6.0  12.8\n",
       "C3  6.2  6.9  19.5  2.5  3.4  10.3\n",
       "C4  5.2  4.5  17.0  0.3  6.0  12.5\n",
       "C5  2.6  7.0  17.0  3.0  5.7  13.9\n",
       "C6  2.0  7.5  16.7  3.7  6.2  14.5\n",
       "C7  3.5  6.2  17.0  7.0  5.4  13.2"
      ]
     },
     "execution_count": 4,
     "metadata": {},
     "output_type": "execute_result"
    }
   ],
   "source": [
    "cs_dist = pd.read_excel(data_path+'distance_clusters_storages.xlsx', header=[0], index_col=[0])\n",
    "cs_dist"
   ]
  },
  {
   "cell_type": "code",
   "execution_count": 5,
   "metadata": {},
   "outputs": [
    {
     "data": {
      "text/html": [
       "<div>\n",
       "<style scoped>\n",
       "    .dataframe tbody tr th:only-of-type {\n",
       "        vertical-align: middle;\n",
       "    }\n",
       "\n",
       "    .dataframe tbody tr th {\n",
       "        vertical-align: top;\n",
       "    }\n",
       "\n",
       "    .dataframe thead tr th {\n",
       "        text-align: left;\n",
       "    }\n",
       "</style>\n",
       "<table border=\"1\" class=\"dataframe\">\n",
       "  <thead>\n",
       "    <tr>\n",
       "      <th></th>\n",
       "      <th></th>\n",
       "      <th colspan=\"3\" halign=\"left\">facility</th>\n",
       "      <th colspan=\"6\" halign=\"left\">storage</th>\n",
       "    </tr>\n",
       "    <tr>\n",
       "      <th></th>\n",
       "      <th></th>\n",
       "      <th>F1</th>\n",
       "      <th>F2</th>\n",
       "      <th>F3</th>\n",
       "      <th>S1</th>\n",
       "      <th>S2</th>\n",
       "      <th>S3</th>\n",
       "      <th>S4</th>\n",
       "      <th>S5</th>\n",
       "      <th>S6</th>\n",
       "    </tr>\n",
       "  </thead>\n",
       "  <tbody>\n",
       "    <tr>\n",
       "      <th rowspan=\"3\" valign=\"top\">facility</th>\n",
       "      <th>F1</th>\n",
       "      <td>inf</td>\n",
       "      <td>inf</td>\n",
       "      <td>inf</td>\n",
       "      <td>13.0</td>\n",
       "      <td>7.5</td>\n",
       "      <td>21.0</td>\n",
       "      <td>7.0</td>\n",
       "      <td>8.5</td>\n",
       "      <td>8.5</td>\n",
       "    </tr>\n",
       "    <tr>\n",
       "      <th>F2</th>\n",
       "      <td>inf</td>\n",
       "      <td>inf</td>\n",
       "      <td>inf</td>\n",
       "      <td>23.0</td>\n",
       "      <td>22.0</td>\n",
       "      <td>35.0</td>\n",
       "      <td>18.6</td>\n",
       "      <td>14.5</td>\n",
       "      <td>6.0</td>\n",
       "    </tr>\n",
       "    <tr>\n",
       "      <th>F3</th>\n",
       "      <td>inf</td>\n",
       "      <td>inf</td>\n",
       "      <td>inf</td>\n",
       "      <td>4.0</td>\n",
       "      <td>12.0</td>\n",
       "      <td>15.0</td>\n",
       "      <td>8.5</td>\n",
       "      <td>11.0</td>\n",
       "      <td>17.5</td>\n",
       "    </tr>\n",
       "    <tr>\n",
       "      <th rowspan=\"6\" valign=\"top\">storage</th>\n",
       "      <th>S1</th>\n",
       "      <td>13.0</td>\n",
       "      <td>23.0</td>\n",
       "      <td>4.0</td>\n",
       "      <td>inf</td>\n",
       "      <td>8.0</td>\n",
       "      <td>19.0</td>\n",
       "      <td>5.0</td>\n",
       "      <td>9.5</td>\n",
       "      <td>16.5</td>\n",
       "    </tr>\n",
       "    <tr>\n",
       "      <th>S2</th>\n",
       "      <td>7.5</td>\n",
       "      <td>22.0</td>\n",
       "      <td>12.0</td>\n",
       "      <td>8.0</td>\n",
       "      <td>inf</td>\n",
       "      <td>17.0</td>\n",
       "      <td>4.5</td>\n",
       "      <td>9.0</td>\n",
       "      <td>14.5</td>\n",
       "    </tr>\n",
       "    <tr>\n",
       "      <th>S3</th>\n",
       "      <td>21.0</td>\n",
       "      <td>35.0</td>\n",
       "      <td>15.0</td>\n",
       "      <td>19.0</td>\n",
       "      <td>17.0</td>\n",
       "      <td>inf</td>\n",
       "      <td>21.0</td>\n",
       "      <td>28.0</td>\n",
       "      <td>33.5</td>\n",
       "    </tr>\n",
       "    <tr>\n",
       "      <th>S4</th>\n",
       "      <td>7.0</td>\n",
       "      <td>18.6</td>\n",
       "      <td>8.5</td>\n",
       "      <td>5.0</td>\n",
       "      <td>4.5</td>\n",
       "      <td>21.0</td>\n",
       "      <td>inf</td>\n",
       "      <td>5.0</td>\n",
       "      <td>15.0</td>\n",
       "    </tr>\n",
       "    <tr>\n",
       "      <th>S5</th>\n",
       "      <td>8.5</td>\n",
       "      <td>14.5</td>\n",
       "      <td>11.0</td>\n",
       "      <td>9.5</td>\n",
       "      <td>9.0</td>\n",
       "      <td>28.0</td>\n",
       "      <td>5.0</td>\n",
       "      <td>inf</td>\n",
       "      <td>10.0</td>\n",
       "    </tr>\n",
       "    <tr>\n",
       "      <th>S6</th>\n",
       "      <td>8.5</td>\n",
       "      <td>6.0</td>\n",
       "      <td>17.5</td>\n",
       "      <td>16.5</td>\n",
       "      <td>14.5</td>\n",
       "      <td>33.5</td>\n",
       "      <td>15.0</td>\n",
       "      <td>10.0</td>\n",
       "      <td>inf</td>\n",
       "    </tr>\n",
       "  </tbody>\n",
       "</table>\n",
       "</div>"
      ],
      "text/plain": [
       "            facility             storage                              \n",
       "                  F1    F2    F3      S1    S2    S3    S4    S5    S6\n",
       "facility F1      inf   inf   inf    13.0   7.5  21.0   7.0   8.5   8.5\n",
       "         F2      inf   inf   inf    23.0  22.0  35.0  18.6  14.5   6.0\n",
       "         F3      inf   inf   inf     4.0  12.0  15.0   8.5  11.0  17.5\n",
       "storage  S1     13.0  23.0   4.0     inf   8.0  19.0   5.0   9.5  16.5\n",
       "         S2      7.5  22.0  12.0     8.0   inf  17.0   4.5   9.0  14.5\n",
       "         S3     21.0  35.0  15.0    19.0  17.0   inf  21.0  28.0  33.5\n",
       "         S4      7.0  18.6   8.5     5.0   4.5  21.0   inf   5.0  15.0\n",
       "         S5      8.5  14.5  11.0     9.5   9.0  28.0   5.0   inf  10.0\n",
       "         S6      8.5   6.0  17.5    16.5  14.5  33.5  15.0  10.0   inf"
      ]
     },
     "execution_count": 5,
     "metadata": {},
     "output_type": "execute_result"
    }
   ],
   "source": [
    "fs_distance = pd.read_excel(data_path+'distance_facilities_storages.xlsx', \n",
    "                   header=[0,1], \n",
    "                   index_col=[0,1])\n",
    "\n",
    "fs_distance"
   ]
  },
  {
   "cell_type": "code",
   "execution_count": 6,
   "metadata": {},
   "outputs": [
    {
     "data": {
      "text/html": [
       "<div>\n",
       "<style scoped>\n",
       "    .dataframe tbody tr th:only-of-type {\n",
       "        vertical-align: middle;\n",
       "    }\n",
       "\n",
       "    .dataframe tbody tr th {\n",
       "        vertical-align: top;\n",
       "    }\n",
       "\n",
       "    .dataframe thead th {\n",
       "        text-align: right;\n",
       "    }\n",
       "</style>\n",
       "<table border=\"1\" class=\"dataframe\">\n",
       "  <thead>\n",
       "    <tr style=\"text-align: right;\">\n",
       "      <th></th>\n",
       "      <th>storage</th>\n",
       "      <th>cost</th>\n",
       "      <th>capacity</th>\n",
       "    </tr>\n",
       "  </thead>\n",
       "  <tbody>\n",
       "    <tr>\n",
       "      <th>0</th>\n",
       "      <td>S1</td>\n",
       "      <td>100</td>\n",
       "      <td>8</td>\n",
       "    </tr>\n",
       "    <tr>\n",
       "      <th>1</th>\n",
       "      <td>S2</td>\n",
       "      <td>100</td>\n",
       "      <td>8</td>\n",
       "    </tr>\n",
       "    <tr>\n",
       "      <th>2</th>\n",
       "      <td>S3</td>\n",
       "      <td>100</td>\n",
       "      <td>8</td>\n",
       "    </tr>\n",
       "    <tr>\n",
       "      <th>3</th>\n",
       "      <td>S4</td>\n",
       "      <td>100</td>\n",
       "      <td>6</td>\n",
       "    </tr>\n",
       "    <tr>\n",
       "      <th>4</th>\n",
       "      <td>S5</td>\n",
       "      <td>100</td>\n",
       "      <td>6</td>\n",
       "    </tr>\n",
       "    <tr>\n",
       "      <th>5</th>\n",
       "      <td>S6</td>\n",
       "      <td>100</td>\n",
       "      <td>6</td>\n",
       "    </tr>\n",
       "  </tbody>\n",
       "</table>\n",
       "</div>"
      ],
      "text/plain": [
       "  storage  cost  capacity\n",
       "0      S1   100         8\n",
       "1      S2   100         8\n",
       "2      S3   100         8\n",
       "3      S4   100         6\n",
       "4      S5   100         6\n",
       "5      S6   100         6"
      ]
     },
     "execution_count": 6,
     "metadata": {},
     "output_type": "execute_result"
    }
   ],
   "source": [
    "df_storage_info = pd.read_csv(data_path+'cost_capacity_storages.csv')\n",
    "df_storage_info"
   ]
  },
  {
   "cell_type": "markdown",
   "metadata": {},
   "source": [
    "### Model Formulation"
   ]
  },
  {
   "cell_type": "code",
   "execution_count": 7,
   "metadata": {},
   "outputs": [],
   "source": [
    "import gurobipy as gp\n",
    "from gurobipy import GRB"
   ]
  },
  {
   "cell_type": "markdown",
   "metadata": {},
   "source": [
    "#### Setting Parameters"
   ]
  },
  {
   "cell_type": "code",
   "execution_count": 8,
   "metadata": {
    "tags": []
   },
   "outputs": [],
   "source": [
    "k_vehicles = 3\n",
    "Q_vehicle_capacity = 10\n",
    "facility = 'F2'"
   ]
  },
  {
   "cell_type": "code",
   "execution_count": 9,
   "metadata": {
    "tags": []
   },
   "outputs": [],
   "source": [
    "storages = cs_dist.columns.tolist()\n",
    "m_storages = len(storages)\n",
    "\n",
    "fields = cs_dist.index.tolist()\n",
    "n_fields = len(fields)\n",
    "\n",
    "J_0 = storages + [facility]"
   ]
  },
  {
   "cell_type": "code",
   "execution_count": 10,
   "metadata": {},
   "outputs": [
    {
     "data": {
      "text/html": [
       "<div>\n",
       "<style scoped>\n",
       "    .dataframe tbody tr th:only-of-type {\n",
       "        vertical-align: middle;\n",
       "    }\n",
       "\n",
       "    .dataframe tbody tr th {\n",
       "        vertical-align: top;\n",
       "    }\n",
       "\n",
       "    .dataframe thead th {\n",
       "        text-align: right;\n",
       "    }\n",
       "</style>\n",
       "<table border=\"1\" class=\"dataframe\">\n",
       "  <thead>\n",
       "    <tr style=\"text-align: right;\">\n",
       "      <th></th>\n",
       "      <th>F2</th>\n",
       "    </tr>\n",
       "  </thead>\n",
       "  <tbody>\n",
       "    <tr>\n",
       "      <th>S1</th>\n",
       "      <td>23.0</td>\n",
       "    </tr>\n",
       "    <tr>\n",
       "      <th>S2</th>\n",
       "      <td>22.0</td>\n",
       "    </tr>\n",
       "    <tr>\n",
       "      <th>S3</th>\n",
       "      <td>35.0</td>\n",
       "    </tr>\n",
       "    <tr>\n",
       "      <th>S4</th>\n",
       "      <td>18.6</td>\n",
       "    </tr>\n",
       "    <tr>\n",
       "      <th>S5</th>\n",
       "      <td>14.5</td>\n",
       "    </tr>\n",
       "    <tr>\n",
       "      <th>S6</th>\n",
       "      <td>6.0</td>\n",
       "    </tr>\n",
       "  </tbody>\n",
       "</table>\n",
       "</div>"
      ],
      "text/plain": [
       "      F2\n",
       "S1  23.0\n",
       "S2  22.0\n",
       "S3  35.0\n",
       "S4  18.6\n",
       "S5  14.5\n",
       "S6   6.0"
      ]
     },
     "execution_count": 10,
     "metadata": {},
     "output_type": "execute_result"
    }
   ],
   "source": [
    "series_fs_distance = fs_distance.loc[('facility',facility), 'storage']\n",
    "series_fs_distance.name = facility\n",
    "df_fs_distance = series_fs_distance.to_frame()\n",
    "df_fs_distance"
   ]
  },
  {
   "cell_type": "code",
   "execution_count": 11,
   "metadata": {},
   "outputs": [
    {
     "data": {
      "text/html": [
       "<div>\n",
       "<style scoped>\n",
       "    .dataframe tbody tr th:only-of-type {\n",
       "        vertical-align: middle;\n",
       "    }\n",
       "\n",
       "    .dataframe tbody tr th {\n",
       "        vertical-align: top;\n",
       "    }\n",
       "\n",
       "    .dataframe thead th {\n",
       "        text-align: right;\n",
       "    }\n",
       "</style>\n",
       "<table border=\"1\" class=\"dataframe\">\n",
       "  <thead>\n",
       "    <tr style=\"text-align: right;\">\n",
       "      <th></th>\n",
       "      <th>S1</th>\n",
       "      <th>S2</th>\n",
       "      <th>S3</th>\n",
       "      <th>S4</th>\n",
       "      <th>S5</th>\n",
       "      <th>S6</th>\n",
       "      <th>F2</th>\n",
       "    </tr>\n",
       "  </thead>\n",
       "  <tbody>\n",
       "    <tr>\n",
       "      <th>F2</th>\n",
       "      <td>23.0</td>\n",
       "      <td>22.0</td>\n",
       "      <td>35.0</td>\n",
       "      <td>18.6</td>\n",
       "      <td>14.5</td>\n",
       "      <td>6.0</td>\n",
       "      <td>inf</td>\n",
       "    </tr>\n",
       "  </tbody>\n",
       "</table>\n",
       "</div>"
      ],
      "text/plain": [
       "      S1    S2    S3    S4    S5   S6   F2\n",
       "F2  23.0  22.0  35.0  18.6  14.5  6.0  inf"
      ]
     },
     "execution_count": 11,
     "metadata": {},
     "output_type": "execute_result"
    }
   ],
   "source": [
    "missing_row = pd.concat([series_fs_distance,pd.Series([np.inf], index=[facility])])\n",
    "missing_row = missing_row.to_frame()\n",
    "missing_row.columns = [facility]\n",
    "missing_row = missing_row.T\n",
    "missing_row"
   ]
  },
  {
   "cell_type": "code",
   "execution_count": 12,
   "metadata": {},
   "outputs": [
    {
     "data": {
      "text/html": [
       "<div>\n",
       "<style scoped>\n",
       "    .dataframe tbody tr th:only-of-type {\n",
       "        vertical-align: middle;\n",
       "    }\n",
       "\n",
       "    .dataframe tbody tr th {\n",
       "        vertical-align: top;\n",
       "    }\n",
       "\n",
       "    .dataframe thead th {\n",
       "        text-align: right;\n",
       "    }\n",
       "</style>\n",
       "<table border=\"1\" class=\"dataframe\">\n",
       "  <thead>\n",
       "    <tr style=\"text-align: right;\">\n",
       "      <th></th>\n",
       "      <th>S1</th>\n",
       "      <th>S2</th>\n",
       "      <th>S3</th>\n",
       "      <th>S4</th>\n",
       "      <th>S5</th>\n",
       "      <th>S6</th>\n",
       "      <th>F2</th>\n",
       "    </tr>\n",
       "  </thead>\n",
       "  <tbody>\n",
       "    <tr>\n",
       "      <th>S1</th>\n",
       "      <td>inf</td>\n",
       "      <td>8.0</td>\n",
       "      <td>19.0</td>\n",
       "      <td>5.0</td>\n",
       "      <td>9.5</td>\n",
       "      <td>16.5</td>\n",
       "      <td>23.0</td>\n",
       "    </tr>\n",
       "    <tr>\n",
       "      <th>S2</th>\n",
       "      <td>8.0</td>\n",
       "      <td>inf</td>\n",
       "      <td>17.0</td>\n",
       "      <td>4.5</td>\n",
       "      <td>9.0</td>\n",
       "      <td>14.5</td>\n",
       "      <td>22.0</td>\n",
       "    </tr>\n",
       "    <tr>\n",
       "      <th>S3</th>\n",
       "      <td>19.0</td>\n",
       "      <td>17.0</td>\n",
       "      <td>inf</td>\n",
       "      <td>21.0</td>\n",
       "      <td>28.0</td>\n",
       "      <td>33.5</td>\n",
       "      <td>35.0</td>\n",
       "    </tr>\n",
       "    <tr>\n",
       "      <th>S4</th>\n",
       "      <td>5.0</td>\n",
       "      <td>4.5</td>\n",
       "      <td>21.0</td>\n",
       "      <td>inf</td>\n",
       "      <td>5.0</td>\n",
       "      <td>15.0</td>\n",
       "      <td>18.6</td>\n",
       "    </tr>\n",
       "    <tr>\n",
       "      <th>S5</th>\n",
       "      <td>9.5</td>\n",
       "      <td>9.0</td>\n",
       "      <td>28.0</td>\n",
       "      <td>5.0</td>\n",
       "      <td>inf</td>\n",
       "      <td>10.0</td>\n",
       "      <td>14.5</td>\n",
       "    </tr>\n",
       "    <tr>\n",
       "      <th>S6</th>\n",
       "      <td>16.5</td>\n",
       "      <td>14.5</td>\n",
       "      <td>33.5</td>\n",
       "      <td>15.0</td>\n",
       "      <td>10.0</td>\n",
       "      <td>inf</td>\n",
       "      <td>6.0</td>\n",
       "    </tr>\n",
       "    <tr>\n",
       "      <th>F2</th>\n",
       "      <td>23.0</td>\n",
       "      <td>22.0</td>\n",
       "      <td>35.0</td>\n",
       "      <td>18.6</td>\n",
       "      <td>14.5</td>\n",
       "      <td>6.0</td>\n",
       "      <td>inf</td>\n",
       "    </tr>\n",
       "  </tbody>\n",
       "</table>\n",
       "</div>"
      ],
      "text/plain": [
       "      S1    S2    S3    S4    S5    S6    F2\n",
       "S1   inf   8.0  19.0   5.0   9.5  16.5  23.0\n",
       "S2   8.0   inf  17.0   4.5   9.0  14.5  22.0\n",
       "S3  19.0  17.0   inf  21.0  28.0  33.5  35.0\n",
       "S4   5.0   4.5  21.0   inf   5.0  15.0  18.6\n",
       "S5   9.5   9.0  28.0   5.0   inf  10.0  14.5\n",
       "S6  16.5  14.5  33.5  15.0  10.0   inf   6.0\n",
       "F2  23.0  22.0  35.0  18.6  14.5   6.0   inf"
      ]
     },
     "execution_count": 12,
     "metadata": {},
     "output_type": "execute_result"
    }
   ],
   "source": [
    "facility_facility_distances = fs_distance.loc[('storage',), 'storage']\n",
    "fs_dist = pd.merge(facility_facility_distances, df_fs_distance, left_index=True, right_index=True)\n",
    "fs_dist = pd.concat([fs_dist, missing_row])\n",
    "fs_dist"
   ]
  },
  {
   "cell_type": "code",
   "execution_count": 13,
   "metadata": {},
   "outputs": [
    {
     "name": "stdout",
     "output_type": "stream",
     "text": [
      "fields idx: {'C1': 0, 'C2': 1, 'C3': 2, 'C4': 3, 'C5': 4, 'C6': 5, 'C7': 6}\n",
      "storages idx: {'S1': 0, 'S2': 1, 'S3': 2, 'S4': 3, 'S5': 4, 'S6': 5}\n",
      "idx to storages: {0: 'S1', 1: 'S2', 2: 'S3', 3: 'S4', 4: 'S5', 5: 'S6'}\n",
      "J_0 idx: {'S1': 0, 'S2': 1, 'S3': 2, 'S4': 3, 'S5': 4, 'S6': 5, 'F2': 6}\n"
     ]
    }
   ],
   "source": [
    "fields_idx = dict(zip(fields, range(n_fields)))\n",
    "storages_idx = dict(zip(storages, range(m_storages)))\n",
    "idx_to_storages = dict(zip(range(m_storages), storages))\n",
    "J_0_idx = dict(zip(J_0, range(len(J_0))))\n",
    "\n",
    "print('fields idx:', fields_idx)\n",
    "print('storages idx:', storages_idx)\n",
    "print('idx to storages:', idx_to_storages)\n",
    "print('J_0 idx:', J_0_idx)"
   ]
  },
  {
   "cell_type": "code",
   "execution_count": 14,
   "metadata": {},
   "outputs": [
    {
     "name": "stdout",
     "output_type": "stream",
     "text": [
      "costs to open a facility: {'S1': 100, 'S2': 100, 'S3': 100, 'S4': 100, 'S5': 100, 'S6': 100}\n",
      "capacity of facility: {'S1': 8, 'S2': 8, 'S3': 8, 'S4': 6, 'S5': 6, 'S6': 6}\n"
     ]
    }
   ],
   "source": [
    "f = dict(zip(df_storage_info.storage, df_storage_info.cost))\n",
    "q = dict(zip(df_storage_info.storage, df_storage_info.capacity))\n",
    "\n",
    "print('costs to open a facility:', f)\n",
    "print('capacity of facility:', q)"
   ]
  },
  {
   "cell_type": "code",
   "execution_count": 15,
   "metadata": {},
   "outputs": [],
   "source": [
    "households = list(d.household)\n",
    "pivot_d = d.pivot(index='cluster', columns='household', values='demand')\n",
    "pivot_d.fillna(0, inplace=True)"
   ]
  },
  {
   "cell_type": "markdown",
   "metadata": {},
   "source": [
    "#### Model Objective Function Declaration"
   ]
  },
  {
   "cell_type": "code",
   "execution_count": 16,
   "metadata": {},
   "outputs": [
    {
     "name": "stdout",
     "output_type": "stream",
     "text": [
      "Defining new LARP model...\n",
      "Set parameter Username\n",
      "Academic license - for non-commercial use only - expires 2025-01-12\n"
     ]
    }
   ],
   "source": [
    "gp.disposeDefaultEnv()\n",
    "try:\n",
    "    larp_model.dispose()\n",
    "except NameError as e:\n",
    "    print('Defining new LARP model...')\n",
    "    larp_model = gp.Model('location_assignment_routing_problem') # general Gurobi mdodel\n",
    "    larp_model.modelSense = GRB.MINIMIZE # decleare the problem as minimization problem"
   ]
  },
  {
   "cell_type": "markdown",
   "metadata": {},
   "source": [
    "#### Decision Variables"
   ]
  },
  {
   "cell_type": "markdown",
   "metadata": {},
   "source": [
    "$$\n",
    "    X_{j}=\n",
    "        \\begin{cases}\n",
    "            1 & \\quad \\text{if storage is located at site j}\n",
    "            \\\\ \n",
    "            0 & \\quad \\text{otherwise}\n",
    "        \\end{cases}\n",
    "$$\n",
    "\n",
    "\n",
    "$$\n",
    "    Y_{ij}=\n",
    "        \\begin{cases}\n",
    "            1 & \\quad \\text{if field i is served by storage j}\n",
    "            \\\\ \n",
    "            0 & \\quad \\text{otherwise}\n",
    "        \\end{cases}\n",
    "$$\n",
    "\n",
    "$$\n",
    "    Z_{uv}=\n",
    "        \\begin{cases}\n",
    "            1 & \\quad \\text{if a vehicle travels from node u to node v}\n",
    "            \\\\ \n",
    "            0 & \\quad \\text{otherwise}\n",
    "        \\end{cases}\n",
    "$$"
   ]
  },
  {
   "cell_type": "code",
   "execution_count": 17,
   "metadata": {},
   "outputs": [],
   "source": [
    "## IN ORDER TO REPLICATE THE ERROR IN THE PAPER##\n",
    "# enlarge the X dimension to include the facility position in X\n",
    "X = larp_model.addVars([j for j in range(m_storages+1)], vtype=GRB.BINARY, name='X')"
   ]
  },
  {
   "cell_type": "code",
   "execution_count": 18,
   "metadata": {},
   "outputs": [],
   "source": [
    "Y = larp_model.addVars([(i,j) for i in range(n_fields) for j in range(m_storages)], vtype=GRB.BINARY, name='Y')\n",
    "Z = larp_model.addVars([(u,v) for u in range(len(J_0)) for v in range(len(J_0)) if u!=v], vtype=GRB.BINARY, name='Z')\n",
    "# cases of u==v are excluded in Z because self-loop are not allowed in any route (and graph)"
   ]
  },
  {
   "cell_type": "markdown",
   "metadata": {},
   "source": [
    "##### Auxiliary Decision Variables\n",
    "\n",
    "Additional decision variables T are meant for the elimination of sub-tours, which are not allowed according the Travelling Salesman problem definition. With T, a set of new constrains are defined."
   ]
  },
  {
   "cell_type": "code",
   "execution_count": 19,
   "metadata": {},
   "outputs": [],
   "source": [
    "T = larp_model.addVars([w for w in range(m_storages)], vtype=GRB.INTEGER, name='T')\n",
    "\n",
    "for u in storages:\n",
    "    larp_model.addConstr(T[storages_idx[u]] >= 0)"
   ]
  },
  {
   "cell_type": "markdown",
   "metadata": {},
   "source": [
    "Constrain on the auxiliary variable is introduced:\n",
    "\n",
    "$$\n",
    "    T_{u} \\geq 0 \\quad \\text{for each} \\quad u \\in J\n",
    "$$"
   ]
  },
  {
   "cell_type": "markdown",
   "metadata": {},
   "source": [
    "#### Objective Function"
   ]
  },
  {
   "cell_type": "markdown",
   "metadata": {},
   "source": [
    "$$\n",
    "\\mathrm{min} \\sum_{j \\in J} f_{j} \\cdot X_{j} + \n",
    "    \\sum_{i \\in I} \\sum_{j \\in J} c_{ij} \\cdot d_{i} \\cdot Y_{ij} + \n",
    "    \\sum_{u \\in J_{0}} \\sum_{v \\in J_{0} : u != v} c_{uv} \\cdot Z_{uv}\n",
    "$$\n",
    "Where:\n",
    "- I is the set of fields;\n",
    "- J is the set of storages;\n",
    "- $J_{0}$ is the se of storages with the facility location.\n"
   ]
  },
  {
   "cell_type": "code",
   "execution_count": 20,
   "metadata": {},
   "outputs": [],
   "source": [
    "larp_model.setObjective(\n",
    "    gp.quicksum(f[j]*X[storages_idx[j]] for j in storages) +\n",
    "    gp.quicksum(cs_dist.loc[i,j]*pivot_d.loc[i,h]*Y[fields_idx[i],storages_idx[j]] for i in fields for j in storages for h in households) +\n",
    "    gp.quicksum(fs_dist.loc[u,v]*Z[J_0_idx[u],J_0_idx[v]] for u in J_0 for v in J_0 if u!=v)\n",
    ")"
   ]
  },
  {
   "cell_type": "markdown",
   "metadata": {},
   "source": [
    "#### Model Constrains"
   ]
  },
  {
   "cell_type": "markdown",
   "metadata": {},
   "source": [
    "(C1) assigment constrain - each field i is served by exactly one field j:\n",
    "$$(C1) \\sum_{j \\in J} Y_{ij} = 1 \\quad \\text{for each} \\quad i \\in I$$"
   ]
  },
  {
   "cell_type": "code",
   "execution_count": 21,
   "metadata": {},
   "outputs": [],
   "source": [
    "for i in fields:\n",
    "    larp_model.addConstr(gp.quicksum(Y[fields_idx[i],storages_idx[j]] for j in storages) == 1)"
   ]
  },
  {
   "cell_type": "markdown",
   "metadata": {},
   "source": [
    "(C2) capacity constrain - amount of waste from any field i to a fixed storage j cannot exceed the capacity of storage j:\n",
    "$$(C2) \\sum_{i \\in I} d_{i} \\cdot Y_{ij} \\leq q_{j} \\cdot X_{j} \\quad \\text{for each} \\quad j \\in J$$"
   ]
  },
  {
   "cell_type": "code",
   "execution_count": 22,
   "metadata": {},
   "outputs": [],
   "source": [
    "for j in storages:\n",
    "    larp_model.addConstr(gp.quicksum(pivot_d.loc[i,h]*Y[fields_idx[i],storages_idx[j]] for i in fields for h in households) <= q[j]*X[storages_idx[j]])"
   ]
  },
  {
   "cell_type": "markdown",
   "metadata": {},
   "source": [
    "(C3) (C4) routing constrain - exactly k vehicles leave the facility 0 and exactly k vehicles return to the facility 0:\n",
    "\n",
    "$$(C3) \\sum_{u \\in J} Z_{u0} = k$$\n",
    "\n",
    "$$(C4) \\sum_{v \\in J} Z_{0v} = k$$"
   ]
  },
  {
   "cell_type": "code",
   "execution_count": 23,
   "metadata": {},
   "outputs": [
    {
     "data": {
      "text/plain": [
       "<gurobi.Constr *Awaiting Model Update*>"
      ]
     },
     "execution_count": 23,
     "metadata": {},
     "output_type": "execute_result"
    }
   ],
   "source": [
    "larp_model.addConstr(gp.quicksum(Z[storages_idx[u],J_0_idx[facility]] for u in storages) == k_vehicles)\n",
    "larp_model.addConstr(gp.quicksum(Z[J_0_idx[facility],storages_idx[v]] for v in storages) == k_vehicles)"
   ]
  },
  {
   "cell_type": "markdown",
   "metadata": {},
   "source": [
    "-----------------------------------------------------------------------------------------------------------------------"
   ]
  },
  {
   "cell_type": "markdown",
   "metadata": {},
   "source": [
    "##### Linearization of non-linear constrains\n",
    "\n",
    "The following constrains:\n",
    "\n",
    "$$\n",
    "    \\sum_{u \\in J_{0}: u != v} X_{u} \\cdot Z_{uv} = X_{v} \\quad \\text{for each} \\quad v \\in J\n",
    "$$\n",
    "\n",
    "$$\n",
    "    \\sum_{v \\in J_{0}: v != u} X_{v} \\cdot Z_{uv} = X_{u} \\quad \\text{for each} \\quad u \\in J\n",
    "$$\n",
    "\n",
    "Are non-linear since they are conposed by (sums of) product of two decision variables. This fact brings that the model is non-linear and cannot be solved as it is, it needs to be linearized. Let $W1_{uw} = X_{u} \\cdot Z_{uv}$ and $W2_{uw} = X_{v} \\cdot Z_{uv}$ for each $u,v \\in J_{0}$ with $u != v$. The following propositions are defined.\n",
    "\n"
   ]
  },
  {
   "cell_type": "markdown",
   "metadata": {},
   "source": [
    "##### Additional Decision Variables"
   ]
  },
  {
   "cell_type": "code",
   "execution_count": 24,
   "metadata": {},
   "outputs": [],
   "source": [
    "W_1 = larp_model.addVars([(u,v) for u in range(len(J_0)) for v in range(len(J_0)) if u!=v], vtype=GRB.BINARY, name='W_1')\n",
    "W_2 = larp_model.addVars([(u,v) for u in range(len(J_0)) for v in range(len(J_0)) if u!=v], vtype=GRB.BINARY, name='W_2')"
   ]
  },
  {
   "cell_type": "markdown",
   "metadata": {},
   "source": [
    "##### Additional Constrains"
   ]
  },
  {
   "cell_type": "markdown",
   "metadata": {},
   "source": [
    "(C5) (C6) (C7) (C8) linearization constrains:\n",
    "\n",
    "$$\n",
    "    (C5) \\sum_{u \\in J_{0}: u != v} W1_{uv} = X_{v} \\quad \\text{for each} \\quad v \\in J\n",
    "$$\n",
    "\n",
    "$$(C6) W1_{uv} \\leq X_{u} \\quad \\text{for each} \\quad u, v \\in J_{0}: u != v$$\n",
    "$$(C7) W1_{uv} \\leq Z_{uv} \\quad \\text{for each} \\quad u, v \\in J_{0}: u != v$$\n",
    "$$(C8) W1_{uv} \\geq X_{u} + Z_{uv} - 1 \\quad \\text{for each} \\quad u, v \\in J_{0}: u != v$$"
   ]
  },
  {
   "cell_type": "code",
   "execution_count": 25,
   "metadata": {},
   "outputs": [],
   "source": [
    "for v in storages:\n",
    "    larp_model.addConstr(gp.quicksum(W_1[J_0_idx[u], storages_idx[v]] for u in J_0 if u!=v) == X[storages_idx[v]])\n",
    "\n",
    "## IN ORDER TO REPLICATE THE ERROR IN THE PAPER ##\n",
    "# in constrain *1 and *2 the decision variable X is accessed with \n",
    "# the indexing array J_0_idx in order to include the facility 0.\n",
    "\n",
    "for u in J_0:\n",
    "    for v in J_0:\n",
    "        if u!=v:\n",
    "            larp_model.addConstr(W_1[J_0_idx[u], J_0_idx[v]] <= X[J_0_idx[u]]) # *1\n",
    "            larp_model.addConstr(\n",
    "                W_1[J_0_idx[u], J_0_idx[v]] >= X[J_0_idx[u]] + Z[J_0_idx[u], J_0_idx[v]] - 1\n",
    "            ) # *2\n",
    "            larp_model.addConstr(W_1[J_0_idx[u], J_0_idx[v]] <= Z[J_0_idx[u], J_0_idx[v]])"
   ]
  },
  {
   "cell_type": "markdown",
   "metadata": {},
   "source": [
    "(C9) (C10) (C11) (C12) linearization constrains:\n",
    "\n",
    "$$\n",
    "    (C9) \\sum_{v \\in J_{0}: u != v} W2_{uv} = X_{u} \\quad \\text{for each} \\quad u \\in J\n",
    "$$\n",
    "\n",
    "$$(C10) W1_{uv} \\leq X_{v} \\quad \\text{for each} \\quad u, v \\in J_{0}: u != v$$\n",
    "$$(C11) W1_{uv} \\leq Z_{uv} \\quad \\text{for each} \\quad u, v \\in J_{0}: u != v$$\n",
    "$$(C12) W1_{uv} \\geq X_{v} + Z_{uv} - 1 \\quad \\text{for each} \\quad u, v \\in J_{0}: u != v$$"
   ]
  },
  {
   "cell_type": "code",
   "execution_count": 26,
   "metadata": {},
   "outputs": [],
   "source": [
    "for u in storages:\n",
    "    larp_model.addConstr(gp.quicksum(W_2[storages_idx[u], J_0_idx[v]] for v in J_0 if u!=v) == X[storages_idx[u]])\n",
    "\n",
    "## IN ORDER TO REPLICATE THE ERROR IN THE PAPER ##\n",
    "# in constrain *3 and *4 the decision variable X is accessed with \n",
    "# the indexing array J_0_idx in order to include the facility 0.\n",
    "\n",
    "for u in J_0:\n",
    "    for v in J_0:\n",
    "        if u!=v:\n",
    "            larp_model.addConstr(W_2[J_0_idx[u], J_0_idx[v]] <= X[J_0_idx[v]]) # *3\n",
    "            larp_model.addConstr(\n",
    "                W_2[J_0_idx[u], J_0_idx[v]] >= X[J_0_idx[v]] + Z[J_0_idx[u], J_0_idx[v]] - 1\n",
    "            ) # *4\n",
    "            larp_model.addConstr(W_2[J_0_idx[u], J_0_idx[v]] <= Z[J_0_idx[u], J_0_idx[v]])"
   ]
  },
  {
   "cell_type": "markdown",
   "metadata": {},
   "source": [
    "-----------------------------------------------------------------------------------------------------------------------"
   ]
  },
  {
   "cell_type": "markdown",
   "metadata": {},
   "source": [
    "(C13) (C14) subtour elimiation constrains - ensure that no cycle is considered as candidate tour:\n",
    "\n",
    "$$\n",
    "    (C13) T_{u} - T_{v} + Q \\cdot Z_{uv} \\leq Q - \\frac{1}{k} \\cdot \\sum_{i \\in I} d_{i} \\cdot Y_{iv} \\quad \\text{for each} \\quad u, v \\in J: u != v\n",
    "$$\n",
    "\n",
    "$$\n",
    "    (C14) \\frac{1}{k} \\cdot \\sum_{i \\in I} d_{i} \\cdot Y_{iv} \\leq T_{u} \\leq Q \\quad \\text{for each} \\quad u \\in J\n",
    "$$"
   ]
  },
  {
   "cell_type": "code",
   "execution_count": 27,
   "metadata": {},
   "outputs": [],
   "source": [
    "for u in storages:\n",
    "    for v in storages:\n",
    "        if u != v:\n",
    "            larp_model.addConstr(T[storages_idx[u]] - T[storages_idx[v]] + Q_vehicle_capacity*Z[storages_idx[u], storages_idx[v]] <= \n",
    "                    Q_vehicle_capacity - (k_vehicles**(-1))*gp.quicksum(pivot_d.loc[i,h]*Y[fields_idx[i],storages_idx[v]] \n",
    "                                                                        for i in fields for h in households))\n",
    "\n",
    "    larp_model.addConstr(T[storages_idx[u]] <= Q_vehicle_capacity)\n",
    "    larp_model.addConstr((k_vehicles**(-1))*gp.quicksum(pivot_d.loc[i,h]*Y[fields_idx[i],storages_idx[u]] \n",
    "                                                        for i in fields for h in households) <= T[storages_idx[u]])\n",
    "    "
   ]
  },
  {
   "cell_type": "markdown",
   "metadata": {},
   "source": [
    "(C15) allocation constrain:\n",
    "\n",
    "$$(C15) Y_{ij} \\geq 0 \\quad \\text{for each} \\quad i \\in I, \\text{for each} \\quad j \\in J  $$"
   ]
  },
  {
   "cell_type": "code",
   "execution_count": 28,
   "metadata": {},
   "outputs": [],
   "source": [
    "for i in fields:\n",
    "    for j in storages:\n",
    "        larp_model.addConstr(Y[fields_idx[i],storages_idx[j]] >= 0)"
   ]
  },
  {
   "cell_type": "markdown",
   "metadata": {},
   "source": [
    "#### Optimization"
   ]
  },
  {
   "cell_type": "code",
   "execution_count": 29,
   "metadata": {},
   "outputs": [
    {
     "name": "stdout",
     "output_type": "stream",
     "text": [
      "Gurobi Optimizer version 11.0.0 build v11.0.0rc2 (win64 - Windows 10.0 (19045.2))\n",
      "\n",
      "CPU model: Intel(R) Core(TM) i5-5200U CPU @ 2.20GHz, instruction set [SSE2|AVX|AVX2]\n",
      "Thread count: 2 physical cores, 4 logical processors, using up to 4 threads\n",
      "\n",
      "Optimize a model with 369 rows, 181 columns and 1176 nonzeros\n",
      "Model fingerprint: 0xcb52b36e\n",
      "Variable types: 0 continuous, 181 integer (175 binary)\n",
      "Coefficient statistics:\n",
      "  Matrix range     [9e-01, 1e+01]\n",
      "  Objective range  [1e+00, 1e+02]\n",
      "  Bounds range     [1e+00, 1e+00]\n",
      "  RHS range        [1e+00, 1e+01]\n",
      "Presolve removed 270 rows and 72 columns\n",
      "Presolve time: 0.04s\n",
      "Presolved: 99 rows, 109 columns, 618 nonzeros\n",
      "Variable types: 0 continuous, 109 integer (103 binary)\n",
      "\n",
      "Root relaxation: objective 5.296205e+02, 71 iterations, 0.01 seconds (0.00 work units)\n",
      "\n",
      "    Nodes    |    Current Node    |     Objective Bounds      |     Work\n",
      " Expl Unexpl |  Obj  Depth IntInf | Incumbent    BestBd   Gap | It/Node Time\n",
      "\n",
      "     0     0  529.62050    0   13          -  529.62050      -     -    0s\n",
      "H    0     0                     609.8830000  529.62050  13.2%     -    0s\n",
      "H    0     0                     609.6140000  529.62050  13.1%     -    0s\n",
      "     0     0  575.39594    0   36  609.61400  575.39594  5.61%     -    0s\n",
      "H    0     0                     609.1560000  576.42643  5.37%     -    0s\n",
      "H    0     0                     608.7560000  576.42643  5.31%     -    0s\n",
      "     0     0  580.16305    0   23  608.75600  580.16305  4.70%     -    0s\n",
      "     0     0  584.46178    0   24  608.75600  584.46178  3.99%     -    0s\n",
      "     0     0  584.46178    0   28  608.75600  584.46178  3.99%     -    0s\n",
      "     0     0  584.93100    0   12  608.75600  584.93100  3.91%     -    0s\n",
      "     0     0  584.93100    0   12  608.75600  584.93100  3.91%     -    0s\n",
      "H    0     0                     598.9310000  584.93100  2.34%     -    0s\n",
      "     0     0  584.93100    0   14  598.93100  584.93100  2.34%     -    0s\n",
      "     0     0  584.93100    0   14  598.93100  584.93100  2.34%     -    0s\n",
      "     0     0  584.93100    0   14  598.93100  584.93100  2.34%     -    0s\n",
      "     0     0  584.93100    0   11  598.93100  584.93100  2.34%     -    0s\n",
      "     0     0  584.93100    0   10  598.93100  584.93100  2.34%     -    0s\n",
      "     0     0  584.93100    0   10  598.93100  584.93100  2.34%     -    0s\n",
      "     0     0  584.93100    0    9  598.93100  584.93100  2.34%     -    0s\n",
      "     0     0  584.93100    0    9  598.93100  584.93100  2.34%     -    0s\n",
      "     0     0  584.93100    0    9  598.93100  584.93100  2.34%     -    0s\n",
      "     0     2  585.19522    0    9  598.93100  585.19522  2.29%     -    0s\n",
      "\n",
      "Cutting planes:\n",
      "  Gomory: 1\n",
      "  Cover: 1\n",
      "  MIR: 7\n",
      "  StrongCG: 2\n",
      "\n",
      "Explored 19 nodes (336 simplex iterations) in 0.32 seconds (0.02 work units)\n",
      "Thread count was 4 (of 4 available processors)\n",
      "\n",
      "Solution count 8: 598.931 598.931 608.756 ... 609.883\n",
      "\n",
      "Optimal solution found (tolerance 1.00e-04)\n",
      "Best objective 5.989310000000e+02, best bound 5.989310000000e+02, gap 0.0000%\n"
     ]
    }
   ],
   "source": [
    "larp_model.optimize()"
   ]
  },
  {
   "cell_type": "code",
   "execution_count": 30,
   "metadata": {},
   "outputs": [
    {
     "name": "stdout",
     "output_type": "stream",
     "text": [
      "optimization runtime: 0.34\n",
      "optimal value of objective function: 598.93\n"
     ]
    }
   ],
   "source": [
    "larp_model_objval = round(larp_model.ObjVal, 2)\n",
    "print('optimization runtime:', round(larp_model.Runtime, 2))\n",
    "print('optimal value of objective function:', larp_model_objval)"
   ]
  },
  {
   "cell_type": "markdown",
   "metadata": {},
   "source": [
    "#### Solutions"
   ]
  },
  {
   "cell_type": "code",
   "execution_count": 31,
   "metadata": {},
   "outputs": [
    {
     "name": "stdout",
     "output_type": "stream",
     "text": [
      "[ 1.  1. -0.  1.  1. -0.]\n",
      "list of storages to open: ['S1', 'S2', 'S4', 'S5']\n"
     ]
    }
   ],
   "source": [
    "X_sol = np.array([X[storages_idx[j]].x for j in storages])\n",
    "print(X_sol)\n",
    "\n",
    "X_sol_rapresentation = [idx_to_storages[x] for x in range(len(X_sol)) if X_sol[x] > 0.5]\n",
    "print('list of storages to open:', X_sol_rapresentation)"
   ]
  },
  {
   "cell_type": "code",
   "execution_count": 32,
   "metadata": {},
   "outputs": [
    {
     "data": {
      "text/html": [
       "<div>\n",
       "<style scoped>\n",
       "    .dataframe tbody tr th:only-of-type {\n",
       "        vertical-align: middle;\n",
       "    }\n",
       "\n",
       "    .dataframe tbody tr th {\n",
       "        vertical-align: top;\n",
       "    }\n",
       "\n",
       "    .dataframe thead th {\n",
       "        text-align: right;\n",
       "    }\n",
       "</style>\n",
       "<table border=\"1\" class=\"dataframe\">\n",
       "  <thead>\n",
       "    <tr style=\"text-align: right;\">\n",
       "      <th></th>\n",
       "      <th>S1</th>\n",
       "      <th>S2</th>\n",
       "      <th>S3</th>\n",
       "      <th>S4</th>\n",
       "      <th>S5</th>\n",
       "      <th>S6</th>\n",
       "    </tr>\n",
       "  </thead>\n",
       "  <tbody>\n",
       "    <tr>\n",
       "      <th>C1</th>\n",
       "      <td>-0.0</td>\n",
       "      <td>1.0</td>\n",
       "      <td>-0.0</td>\n",
       "      <td>-0.0</td>\n",
       "      <td>-0.0</td>\n",
       "      <td>-0.0</td>\n",
       "    </tr>\n",
       "    <tr>\n",
       "      <th>C2</th>\n",
       "      <td>-0.0</td>\n",
       "      <td>1.0</td>\n",
       "      <td>-0.0</td>\n",
       "      <td>-0.0</td>\n",
       "      <td>-0.0</td>\n",
       "      <td>-0.0</td>\n",
       "    </tr>\n",
       "    <tr>\n",
       "      <th>C3</th>\n",
       "      <td>-0.0</td>\n",
       "      <td>-0.0</td>\n",
       "      <td>-0.0</td>\n",
       "      <td>-0.0</td>\n",
       "      <td>1.0</td>\n",
       "      <td>-0.0</td>\n",
       "    </tr>\n",
       "    <tr>\n",
       "      <th>C4</th>\n",
       "      <td>-0.0</td>\n",
       "      <td>-0.0</td>\n",
       "      <td>-0.0</td>\n",
       "      <td>1.0</td>\n",
       "      <td>-0.0</td>\n",
       "      <td>-0.0</td>\n",
       "    </tr>\n",
       "    <tr>\n",
       "      <th>C5</th>\n",
       "      <td>1.0</td>\n",
       "      <td>-0.0</td>\n",
       "      <td>-0.0</td>\n",
       "      <td>-0.0</td>\n",
       "      <td>-0.0</td>\n",
       "      <td>-0.0</td>\n",
       "    </tr>\n",
       "    <tr>\n",
       "      <th>C6</th>\n",
       "      <td>1.0</td>\n",
       "      <td>-0.0</td>\n",
       "      <td>-0.0</td>\n",
       "      <td>-0.0</td>\n",
       "      <td>-0.0</td>\n",
       "      <td>-0.0</td>\n",
       "    </tr>\n",
       "    <tr>\n",
       "      <th>C7</th>\n",
       "      <td>-0.0</td>\n",
       "      <td>-0.0</td>\n",
       "      <td>-0.0</td>\n",
       "      <td>-0.0</td>\n",
       "      <td>1.0</td>\n",
       "      <td>-0.0</td>\n",
       "    </tr>\n",
       "  </tbody>\n",
       "</table>\n",
       "</div>"
      ],
      "text/plain": [
       "     S1   S2   S3   S4   S5   S6\n",
       "C1 -0.0  1.0 -0.0 -0.0 -0.0 -0.0\n",
       "C2 -0.0  1.0 -0.0 -0.0 -0.0 -0.0\n",
       "C3 -0.0 -0.0 -0.0 -0.0  1.0 -0.0\n",
       "C4 -0.0 -0.0 -0.0  1.0 -0.0 -0.0\n",
       "C5  1.0 -0.0 -0.0 -0.0 -0.0 -0.0\n",
       "C6  1.0 -0.0 -0.0 -0.0 -0.0 -0.0\n",
       "C7 -0.0 -0.0 -0.0 -0.0  1.0 -0.0"
      ]
     },
     "execution_count": 32,
     "metadata": {},
     "output_type": "execute_result"
    }
   ],
   "source": [
    "Y_sol = np.array([[Y[fields_idx[i],storages_idx[j]].x for j in storages] for i in fields])\n",
    "Y_sol_rapresentation = pd.DataFrame(Y_sol, columns=storages, index=fields)\n",
    "Y_sol_rapresentation"
   ]
  },
  {
   "cell_type": "code",
   "execution_count": 33,
   "metadata": {},
   "outputs": [
    {
     "name": "stdout",
     "output_type": "stream",
     "text": [
      "storage S1 is assigned to the following fields: ['C5', 'C6']\n",
      "storage S2 is assigned to the following fields: ['C1', 'C2']\n",
      "storage S3 is assigned to the following fields: []\n",
      "storage S4 is assigned to the following fields: ['C4']\n",
      "storage S5 is assigned to the following fields: ['C3', 'C7']\n",
      "storage S6 is assigned to the following fields: []\n"
     ]
    }
   ],
   "source": [
    "assigmnets_storages_to_fields = {j: [i for i in fields if Y_sol_rapresentation.loc[i, j] == 1] for j in storages}\n",
    "for s, l in assigmnets_storages_to_fields.items():\n",
    "    print(f'storage {s} is assigned to the following fields: {l}')"
   ]
  },
  {
   "cell_type": "code",
   "execution_count": 34,
   "metadata": {},
   "outputs": [
    {
     "data": {
      "text/html": [
       "<div>\n",
       "<style scoped>\n",
       "    .dataframe tbody tr th:only-of-type {\n",
       "        vertical-align: middle;\n",
       "    }\n",
       "\n",
       "    .dataframe tbody tr th {\n",
       "        vertical-align: top;\n",
       "    }\n",
       "\n",
       "    .dataframe thead th {\n",
       "        text-align: right;\n",
       "    }\n",
       "</style>\n",
       "<table border=\"1\" class=\"dataframe\">\n",
       "  <thead>\n",
       "    <tr style=\"text-align: right;\">\n",
       "      <th></th>\n",
       "      <th>S1</th>\n",
       "      <th>S2</th>\n",
       "      <th>S3</th>\n",
       "      <th>S4</th>\n",
       "      <th>S5</th>\n",
       "      <th>S6</th>\n",
       "      <th>F2</th>\n",
       "    </tr>\n",
       "  </thead>\n",
       "  <tbody>\n",
       "    <tr>\n",
       "      <th>S1</th>\n",
       "      <td>0.0</td>\n",
       "      <td>-0.0</td>\n",
       "      <td>-0.0</td>\n",
       "      <td>-0.0</td>\n",
       "      <td>-0.0</td>\n",
       "      <td>-0.0</td>\n",
       "      <td>1.0</td>\n",
       "    </tr>\n",
       "    <tr>\n",
       "      <th>S2</th>\n",
       "      <td>1.0</td>\n",
       "      <td>0.0</td>\n",
       "      <td>-0.0</td>\n",
       "      <td>-0.0</td>\n",
       "      <td>-0.0</td>\n",
       "      <td>-0.0</td>\n",
       "      <td>-0.0</td>\n",
       "    </tr>\n",
       "    <tr>\n",
       "      <th>S3</th>\n",
       "      <td>-0.0</td>\n",
       "      <td>-0.0</td>\n",
       "      <td>0.0</td>\n",
       "      <td>-0.0</td>\n",
       "      <td>-0.0</td>\n",
       "      <td>-0.0</td>\n",
       "      <td>-0.0</td>\n",
       "    </tr>\n",
       "    <tr>\n",
       "      <th>S4</th>\n",
       "      <td>-0.0</td>\n",
       "      <td>-0.0</td>\n",
       "      <td>-0.0</td>\n",
       "      <td>0.0</td>\n",
       "      <td>-0.0</td>\n",
       "      <td>-0.0</td>\n",
       "      <td>1.0</td>\n",
       "    </tr>\n",
       "    <tr>\n",
       "      <th>S5</th>\n",
       "      <td>-0.0</td>\n",
       "      <td>-0.0</td>\n",
       "      <td>-0.0</td>\n",
       "      <td>-0.0</td>\n",
       "      <td>0.0</td>\n",
       "      <td>-0.0</td>\n",
       "      <td>1.0</td>\n",
       "    </tr>\n",
       "    <tr>\n",
       "      <th>S6</th>\n",
       "      <td>-0.0</td>\n",
       "      <td>-0.0</td>\n",
       "      <td>-0.0</td>\n",
       "      <td>-0.0</td>\n",
       "      <td>-0.0</td>\n",
       "      <td>0.0</td>\n",
       "      <td>-0.0</td>\n",
       "    </tr>\n",
       "    <tr>\n",
       "      <th>F2</th>\n",
       "      <td>-0.0</td>\n",
       "      <td>1.0</td>\n",
       "      <td>-0.0</td>\n",
       "      <td>1.0</td>\n",
       "      <td>1.0</td>\n",
       "      <td>-0.0</td>\n",
       "      <td>0.0</td>\n",
       "    </tr>\n",
       "  </tbody>\n",
       "</table>\n",
       "</div>"
      ],
      "text/plain": [
       "     S1   S2   S3   S4   S5   S6   F2\n",
       "S1  0.0 -0.0 -0.0 -0.0 -0.0 -0.0  1.0\n",
       "S2  1.0  0.0 -0.0 -0.0 -0.0 -0.0 -0.0\n",
       "S3 -0.0 -0.0  0.0 -0.0 -0.0 -0.0 -0.0\n",
       "S4 -0.0 -0.0 -0.0  0.0 -0.0 -0.0  1.0\n",
       "S5 -0.0 -0.0 -0.0 -0.0  0.0 -0.0  1.0\n",
       "S6 -0.0 -0.0 -0.0 -0.0 -0.0  0.0 -0.0\n",
       "F2 -0.0  1.0 -0.0  1.0  1.0 -0.0  0.0"
      ]
     },
     "execution_count": 34,
     "metadata": {},
     "output_type": "execute_result"
    }
   ],
   "source": [
    "Z_sol = np.array([[Z[J_0_idx[u],J_0_idx[v]].x if u!=v else 0.0 for v in J_0] for u in J_0])\n",
    "Z_sol_rapresentation = pd.DataFrame(Z_sol, columns=fs_dist.columns, index=fs_dist.index)\n",
    "Z_sol_rapresentation"
   ]
  },
  {
   "cell_type": "code",
   "execution_count": 35,
   "metadata": {},
   "outputs": [
    {
     "name": "stdout",
     "output_type": "stream",
     "text": [
      "location cost: 400.0\n",
      "assignment cost: 79.73\n",
      "transportation cost: 119.2\n"
     ]
    }
   ],
   "source": [
    "location_cost = sum(f[j]*X_sol[storages_idx[j]] for j in storages) \n",
    "assignment_cost = sum(cs_dist.loc[i,j]*pivot_d.loc[i,h]*Y_sol[fields_idx[i],storages_idx[j]] for i in fields for j in storages for h in households) \n",
    "transportation_cost = sum(fs_dist.loc[u,v]*Z_sol[J_0_idx[u],J_0_idx[v]] for u in J_0 for v in J_0 if u!=v)\n",
    "\n",
    "location_cost = round(location_cost, 2)\n",
    "assignment_cost = round(assignment_cost, 2)\n",
    "transportation_cost = round(transportation_cost, 2)\n",
    "\n",
    "print('location cost:', location_cost)\n",
    "print('assignment cost:', assignment_cost)\n",
    "print('transportation cost:', transportation_cost)\n",
    "\n",
    "total_cost = location_cost+assignment_cost+transportation_cost\n",
    "total_cost = round(total_cost, 2)\n",
    "\n",
    "assert larp_model_objval == total_cost, f'ERROR: ObjVal = {larp_model_objval}, total cost = {total_cost}'"
   ]
  },
  {
   "cell_type": "code",
   "execution_count": 36,
   "metadata": {},
   "outputs": [
    {
     "name": "stdout",
     "output_type": "stream",
     "text": [
      "[10.  3.  2.  2.  2. -0.]\n",
      "['S1', 'S2', 'S3', 'S4', 'S5', 'S6']\n"
     ]
    }
   ],
   "source": [
    "T_sol = np.array([T[w].x for w in range(m_storages)])\n",
    "print(T_sol)\n",
    "\n",
    "T_sol_rapresentation = [idx_to_storages[t] for t in range(len(T_sol))]\n",
    "print(T_sol_rapresentation)"
   ]
  },
  {
   "cell_type": "code",
   "execution_count": 37,
   "metadata": {},
   "outputs": [
    {
     "data": {
      "text/html": [
       "<div>\n",
       "<style scoped>\n",
       "    .dataframe tbody tr th:only-of-type {\n",
       "        vertical-align: middle;\n",
       "    }\n",
       "\n",
       "    .dataframe tbody tr th {\n",
       "        vertical-align: top;\n",
       "    }\n",
       "\n",
       "    .dataframe thead th {\n",
       "        text-align: right;\n",
       "    }\n",
       "</style>\n",
       "<table border=\"1\" class=\"dataframe\">\n",
       "  <thead>\n",
       "    <tr style=\"text-align: right;\">\n",
       "      <th></th>\n",
       "      <th>S1</th>\n",
       "      <th>S2</th>\n",
       "      <th>S3</th>\n",
       "      <th>S4</th>\n",
       "      <th>S5</th>\n",
       "      <th>S6</th>\n",
       "      <th>F2</th>\n",
       "    </tr>\n",
       "  </thead>\n",
       "  <tbody>\n",
       "    <tr>\n",
       "      <th>S1</th>\n",
       "      <td>inf</td>\n",
       "      <td>-0.0</td>\n",
       "      <td>-0.0</td>\n",
       "      <td>0.0</td>\n",
       "      <td>-0.0</td>\n",
       "      <td>-0.0</td>\n",
       "      <td>1.0</td>\n",
       "    </tr>\n",
       "    <tr>\n",
       "      <th>S2</th>\n",
       "      <td>1.0</td>\n",
       "      <td>inf</td>\n",
       "      <td>-0.0</td>\n",
       "      <td>-0.0</td>\n",
       "      <td>0.0</td>\n",
       "      <td>-0.0</td>\n",
       "      <td>0.0</td>\n",
       "    </tr>\n",
       "    <tr>\n",
       "      <th>S3</th>\n",
       "      <td>0.0</td>\n",
       "      <td>-0.0</td>\n",
       "      <td>inf</td>\n",
       "      <td>0.0</td>\n",
       "      <td>-0.0</td>\n",
       "      <td>-0.0</td>\n",
       "      <td>0.0</td>\n",
       "    </tr>\n",
       "    <tr>\n",
       "      <th>S4</th>\n",
       "      <td>-0.0</td>\n",
       "      <td>-0.0</td>\n",
       "      <td>-0.0</td>\n",
       "      <td>inf</td>\n",
       "      <td>-0.0</td>\n",
       "      <td>0.0</td>\n",
       "      <td>1.0</td>\n",
       "    </tr>\n",
       "    <tr>\n",
       "      <th>S5</th>\n",
       "      <td>-0.0</td>\n",
       "      <td>-0.0</td>\n",
       "      <td>-0.0</td>\n",
       "      <td>-0.0</td>\n",
       "      <td>inf</td>\n",
       "      <td>-0.0</td>\n",
       "      <td>1.0</td>\n",
       "    </tr>\n",
       "    <tr>\n",
       "      <th>S6</th>\n",
       "      <td>-0.0</td>\n",
       "      <td>0.0</td>\n",
       "      <td>-0.0</td>\n",
       "      <td>-0.0</td>\n",
       "      <td>0.0</td>\n",
       "      <td>inf</td>\n",
       "      <td>0.0</td>\n",
       "    </tr>\n",
       "    <tr>\n",
       "      <th>F2</th>\n",
       "      <td>-0.0</td>\n",
       "      <td>1.0</td>\n",
       "      <td>-0.0</td>\n",
       "      <td>1.0</td>\n",
       "      <td>1.0</td>\n",
       "      <td>-0.0</td>\n",
       "      <td>inf</td>\n",
       "    </tr>\n",
       "  </tbody>\n",
       "</table>\n",
       "</div>"
      ],
      "text/plain": [
       "     S1   S2   S3   S4   S5   S6   F2\n",
       "S1  inf -0.0 -0.0  0.0 -0.0 -0.0  1.0\n",
       "S2  1.0  inf -0.0 -0.0  0.0 -0.0  0.0\n",
       "S3  0.0 -0.0  inf  0.0 -0.0 -0.0  0.0\n",
       "S4 -0.0 -0.0 -0.0  inf -0.0  0.0  1.0\n",
       "S5 -0.0 -0.0 -0.0 -0.0  inf -0.0  1.0\n",
       "S6 -0.0  0.0 -0.0 -0.0  0.0  inf  0.0\n",
       "F2 -0.0  1.0 -0.0  1.0  1.0 -0.0  inf"
      ]
     },
     "execution_count": 37,
     "metadata": {},
     "output_type": "execute_result"
    }
   ],
   "source": [
    "W_1_sol = np.array([[W_1[u,v].x if u!=v else np.inf for v in range(len(J_0))] for u in range(len(J_0))])\n",
    "W_1_sol_rapresentation = pd.DataFrame(W_1_sol, columns=fs_dist.columns, index=fs_dist.index)\n",
    "W_1_sol_rapresentation"
   ]
  },
  {
   "cell_type": "code",
   "execution_count": 38,
   "metadata": {},
   "outputs": [
    {
     "data": {
      "text/html": [
       "<div>\n",
       "<style scoped>\n",
       "    .dataframe tbody tr th:only-of-type {\n",
       "        vertical-align: middle;\n",
       "    }\n",
       "\n",
       "    .dataframe tbody tr th {\n",
       "        vertical-align: top;\n",
       "    }\n",
       "\n",
       "    .dataframe thead th {\n",
       "        text-align: right;\n",
       "    }\n",
       "</style>\n",
       "<table border=\"1\" class=\"dataframe\">\n",
       "  <thead>\n",
       "    <tr style=\"text-align: right;\">\n",
       "      <th></th>\n",
       "      <th>S1</th>\n",
       "      <th>S2</th>\n",
       "      <th>S3</th>\n",
       "      <th>S4</th>\n",
       "      <th>S5</th>\n",
       "      <th>S6</th>\n",
       "      <th>F2</th>\n",
       "    </tr>\n",
       "  </thead>\n",
       "  <tbody>\n",
       "    <tr>\n",
       "      <th>S1</th>\n",
       "      <td>inf</td>\n",
       "      <td>0.0</td>\n",
       "      <td>0.0</td>\n",
       "      <td>-0.0</td>\n",
       "      <td>0.0</td>\n",
       "      <td>0.0</td>\n",
       "      <td>1.0</td>\n",
       "    </tr>\n",
       "    <tr>\n",
       "      <th>S2</th>\n",
       "      <td>1.0</td>\n",
       "      <td>inf</td>\n",
       "      <td>0.0</td>\n",
       "      <td>0.0</td>\n",
       "      <td>-0.0</td>\n",
       "      <td>0.0</td>\n",
       "      <td>-0.0</td>\n",
       "    </tr>\n",
       "    <tr>\n",
       "      <th>S3</th>\n",
       "      <td>-0.0</td>\n",
       "      <td>0.0</td>\n",
       "      <td>inf</td>\n",
       "      <td>-0.0</td>\n",
       "      <td>0.0</td>\n",
       "      <td>0.0</td>\n",
       "      <td>-0.0</td>\n",
       "    </tr>\n",
       "    <tr>\n",
       "      <th>S4</th>\n",
       "      <td>0.0</td>\n",
       "      <td>0.0</td>\n",
       "      <td>0.0</td>\n",
       "      <td>inf</td>\n",
       "      <td>0.0</td>\n",
       "      <td>-0.0</td>\n",
       "      <td>1.0</td>\n",
       "    </tr>\n",
       "    <tr>\n",
       "      <th>S5</th>\n",
       "      <td>0.0</td>\n",
       "      <td>0.0</td>\n",
       "      <td>0.0</td>\n",
       "      <td>0.0</td>\n",
       "      <td>inf</td>\n",
       "      <td>0.0</td>\n",
       "      <td>1.0</td>\n",
       "    </tr>\n",
       "    <tr>\n",
       "      <th>S6</th>\n",
       "      <td>0.0</td>\n",
       "      <td>-0.0</td>\n",
       "      <td>0.0</td>\n",
       "      <td>0.0</td>\n",
       "      <td>-0.0</td>\n",
       "      <td>inf</td>\n",
       "      <td>-0.0</td>\n",
       "    </tr>\n",
       "    <tr>\n",
       "      <th>F2</th>\n",
       "      <td>0.0</td>\n",
       "      <td>1.0</td>\n",
       "      <td>0.0</td>\n",
       "      <td>1.0</td>\n",
       "      <td>1.0</td>\n",
       "      <td>0.0</td>\n",
       "      <td>inf</td>\n",
       "    </tr>\n",
       "  </tbody>\n",
       "</table>\n",
       "</div>"
      ],
      "text/plain": [
       "     S1   S2   S3   S4   S5   S6   F2\n",
       "S1  inf  0.0  0.0 -0.0  0.0  0.0  1.0\n",
       "S2  1.0  inf  0.0  0.0 -0.0  0.0 -0.0\n",
       "S3 -0.0  0.0  inf -0.0  0.0  0.0 -0.0\n",
       "S4  0.0  0.0  0.0  inf  0.0 -0.0  1.0\n",
       "S5  0.0  0.0  0.0  0.0  inf  0.0  1.0\n",
       "S6  0.0 -0.0  0.0  0.0 -0.0  inf -0.0\n",
       "F2  0.0  1.0  0.0  1.0  1.0  0.0  inf"
      ]
     },
     "execution_count": 38,
     "metadata": {},
     "output_type": "execute_result"
    }
   ],
   "source": [
    "W_2_sol = np.array([[W_2[u,v].x if u!=v else np.inf for v in range(len(J_0))] for u in range(len(J_0))])\n",
    "W_2_sol_rapresentation = pd.DataFrame(W_2_sol, columns=fs_dist.columns, index=fs_dist.index)\n",
    "W_2_sol_rapresentation"
   ]
  },
  {
   "cell_type": "markdown",
   "metadata": {},
   "source": [
    "##### Store Model and Solutions"
   ]
  },
  {
   "cell_type": "code",
   "execution_count": 39,
   "metadata": {},
   "outputs": [
    {
     "name": "stdout",
     "output_type": "stream",
     "text": [
      "Folder already exists: c:\\Users\\pierp\\OneDrive\\Desktop\\Optimization Models\\Python exercises\\DSSC_MO\\backup\\backup_F2_f_7_s_6\\\n"
     ]
    }
   ],
   "source": [
    "def create_folder_if_not_exists(folder_path):\n",
    "    if not os.path.exists(folder_path):\n",
    "        os.makedirs(folder_path)\n",
    "        print(f\"Folder created: {folder_path}\")\n",
    "    else:\n",
    "        print(f\"Folder already exists: {folder_path}\")\n",
    "\n",
    "folder_path = os.getcwd() + f\"\\\\backup\\\\backup_{facility}_f_{n_fields}_s_{m_storages}\\\\\"\n",
    "create_folder_if_not_exists(folder_path)"
   ]
  },
  {
   "cell_type": "code",
   "execution_count": 40,
   "metadata": {},
   "outputs": [],
   "source": [
    "larp_model.write(folder_path + 'larp_model.mps')\n",
    "larp_model.write(folder_path + 'solution.sol')"
   ]
  },
  {
   "cell_type": "code",
   "execution_count": 41,
   "metadata": {},
   "outputs": [],
   "source": [
    "Y_sol_rapresentation.to_pickle(folder_path + 'Y_sol.pkl')\n",
    "Z_sol_rapresentation.to_pickle(folder_path + 'Z_sol.pkl')"
   ]
  },
  {
   "cell_type": "code",
   "execution_count": 42,
   "metadata": {},
   "outputs": [],
   "source": [
    "with open(folder_path + 'list_X_sol.pkl', 'wb') as file:\n",
    "    pickle.dump(X_sol_rapresentation, file)"
   ]
  },
  {
   "cell_type": "code",
   "execution_count": 43,
   "metadata": {},
   "outputs": [],
   "source": [
    "with open(folder_path + 'dict_storage_to_fields.pkl', 'wb') as file:\n",
    "    pickle.dump(assigmnets_storages_to_fields, file)"
   ]
  },
  {
   "cell_type": "code",
   "execution_count": 44,
   "metadata": {},
   "outputs": [],
   "source": [
    "scalability_unit = [facility, n_fields, m_storages, larp_model_objval, round(larp_model.Runtime, 2)]\n",
    "with open(folder_path + 'scalability_unit.pkl', 'wb') as file:\n",
    "    pickle.dump(scalability_unit, file)"
   ]
  },
  {
   "cell_type": "code",
   "execution_count": 45,
   "metadata": {},
   "outputs": [
    {
     "name": "stdout",
     "output_type": "stream",
     "text": [
      "Freeing default Gurobi environment\n"
     ]
    }
   ],
   "source": [
    "larp_model.dispose()\n",
    "gp.disposeDefaultEnv()"
   ]
  },
  {
   "cell_type": "code",
   "execution_count": null,
   "metadata": {},
   "outputs": [],
   "source": []
  }
 ],
 "metadata": {
  "kernelspec": {
   "display_name": "Python 3",
   "language": "python",
   "name": "python3"
  },
  "language_info": {
   "codemirror_mode": {
    "name": "ipython",
    "version": 3
   },
   "file_extension": ".py",
   "mimetype": "text/x-python",
   "name": "python",
   "nbconvert_exporter": "python",
   "pygments_lexer": "ipython3",
   "version": "3.10.13"
  }
 },
 "nbformat": 4,
 "nbformat_minor": 2
}
